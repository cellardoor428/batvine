{
 "metadata": {
  "name": "nightly_pass_distribution"
 }, 
 "nbformat": 2, 
 "worksheets": [
  {
   "cells": [
    {
     "cell_type": "code", 
     "collapsed": true, 
     "input": [
      "# Import everything", 
      "import numpy as np", 
      "import pandas as p"
     ], 
     "language": "python", 
     "outputs": [], 
     "prompt_number": 1
    }, 
    {
     "cell_type": "code", 
     "collapsed": true, 
     "input": [
      "# Load the pass data for 2011 & 2012 (with date already adjusted)", 
      "table = p.read_csv('../data/pass_bin_both_years.csv')"
     ], 
     "language": "python", 
     "outputs": [], 
     "prompt_number": 2
    }, 
    {
     "cell_type": "code", 
     "collapsed": false, 
     "input": [
      "table.columns"
     ], 
     "language": "python", 
     "outputs": [
      {
       "output_type": "pyout", 
       "prompt_number": 3, 
       "text": [
        "Index([folder, pass, date, detector_date, ncalls, qual, ANPA, EPFU, MYEV,", 
        "       MYTH, LANO, LACI, MYCA, LABL, PAHE, MYLU, MYVO, TABR, MYYU, COTO,", 
        "       EUPE], dtype=object)"
       ]
      }
     ], 
     "prompt_number": 3
    }, 
    {
     "cell_type": "code", 
     "collapsed": false, 
     "input": [
      "print table['pass']"
     ], 
     "language": "python", 
     "outputs": [
      {
       "output_type": "stream", 
       "stream": "stdout", 
       "text": [
        "0     SM1_0_20110714_213435_531.00#", 
        "1     SM1_0_20110714_230150_383.00#", 
        "2     SM1_0_20110715_014037_778.00#", 
        "3     SM1_0_20110715_031757_145.00#", 
        "4     SM1_0_20110715_033949_246.00#", 
        "5     SM1_0_20110715_041736_261.00#", 
        "6     SM1_0_20110715_042513_363.00#", 
        "7     SM1_0_20110715_042521_100.00#", 
        "8     SM1_0_20110715_043452_357.00#", 
        "9     SM1_0_20110715_044329_142.00#", 
        "10    SM1_0_20110715_051543_476.00#", 
        "11    SM1_0_20110715_051551_400.00#", 
        "12    SM1_0_20110715_212424_694.00#", 
        "13    SM1_0_20110715_214228_761.00#", 
        "14    SM1_0_20110715_215304_460.00#", 
        "...", 
        "17631    SM6_0_20120721_041437_099.00#", 
        "17632    SM6_0_20120721_041511_126.00#", 
        "17633    SM6_0_20120721_042037_698.00#", 
        "17634    SM6_0_20120721_042505_239.00#", 
        "17635    SM6_0_20120721_050117_188.00#", 
        "17636    SM6_0_20120721_051135_328.00#", 
        "17637    SM6_0_20120721_051722_194.00#", 
        "17638    SM6_0_20120721_052200_804.00#", 
        "17639    SM6_0_20120721_052242_634.00#", 
        "17640    SM6_0_20120721_052528_148.00#", 
        "17641    SM6_0_20120721_052629_813.00#", 
        "17642    SM6_0_20120721_052645_549.00#", 
        "17643    SM6_0_20120721_052729_628.00#", 
        "17644    SM6_0_20120721_053134_418.00#", 
        "17645    SM6_0_20120721_053450_469.00#", 
        "Name: pass, Length: 17646"
       ]
      }
     ], 
     "prompt_number": 4
    }, 
    {
     "cell_type": "code", 
     "collapsed": true, 
     "input": [
      "# Create empty list to hold hour ", 
      "hour = []", 
      "pass_col = table['pass']", 
      "# Loop through all passes in pass_col ", 
      "for i in pass_col.values:", 
      "    #Split pass column into words, 3rd word being time", 
      "    i_split = i.split('_')", 
      "    time = i_split[3] # get time as a string", 
      "    thour = int(time[0:2]) # get hour as the first 2 integers in time", 
      "    hour.append(thour) # append hour to hour list"
     ], 
     "language": "python", 
     "outputs": [], 
     "prompt_number": 5
    }, 
    {
     "cell_type": "code", 
     "collapsed": false, 
     "input": [
      "print hour[:10]"
     ], 
     "language": "python", 
     "outputs": [
      {
       "output_type": "stream", 
       "stream": "stdout", 
       "text": [
        "[21, 23, 1, 3, 3, 4, 4, 4, 4, 4]"
       ]
      }
     ], 
     "prompt_number": 6
    }, 
    {
     "cell_type": "code", 
     "collapsed": true, 
     "input": [
      "# Insert hour column into table", 
      "table.insert(3, 'hour', hour)"
     ], 
     "language": "python", 
     "outputs": [], 
     "prompt_number": 7
    }, 
    {
     "cell_type": "code", 
     "collapsed": true, 
     "input": [
      "#Group hour by unique values", 
      "unique_hour = np.unique(table['hour'])", 
      "# Setup empty list to hold total passes by hour for each species", 
      "tota_ANPA_col = []", 
      "tota_EPFU_col = []", 
      "tota_MYEV_col = []", 
      "tota_MYTH_col = []", 
      "tota_LANO_col = []", 
      "tota_LACI_col = []", 
      "tota_MYCA_col = []", 
      "tota_LABL_col = []", 
      "tota_PAHE_col = []", 
      "tota_MYLU_col = []", 
      "tota_MYVO_col = []", 
      "tota_TABR_col = []", 
      "tota_MYYU_col = []", 
      "tota_COTO_col = []", 
      "tota_EUPE_col = []", 
      "# Loop through all unique values in hour, and pull out total bat passes for each species", 
      "for i in unique_hour:", 
      "    mini_table = table[table['hour'] == i]", 
      "    tota_ANPA_col.append(np.sum(mini_table['ANPA']))", 
      "    tota_EPFU_col.append(np.sum(mini_table['EPFU']))", 
      "    tota_MYEV_col.append(np.sum(mini_table['MYEV']))", 
      "    tota_MYTH_col.append(np.sum(mini_table['MYTH']))", 
      "    tota_LANO_col.append(np.sum(mini_table['LANO']))", 
      "    tota_LACI_col.append(np.sum(mini_table['LACI']))", 
      "    tota_MYCA_col.append(np.sum(mini_table['MYCA']))", 
      "    tota_LABL_col.append(np.sum(mini_table['LABL']))", 
      "    tota_PAHE_col.append(np.sum(mini_table['PAHE']))", 
      "    tota_MYLU_col.append(np.sum(mini_table['MYLU']))", 
      "    tota_MYVO_col.append(np.sum(mini_table['MYVO']))", 
      "    tota_TABR_col.append(np.sum(mini_table['TABR']))", 
      "    tota_MYYU_col.append(np.sum(mini_table['MYYU']))", 
      "    tota_COTO_col.append(np.sum(mini_table['COTO']))", 
      "    tota_EUPE_col.append(np.sum(mini_table['EUPE']))"
     ], 
     "language": "python", 
     "outputs": [], 
     "prompt_number": 18
    }, 
    {
     "cell_type": "code", 
     "collapsed": true, 
     "input": [
      "# Make dataframe to hold new columns (hour and total for each species)", 
      "time_table = p.DataFrame(data=unique_hour, index=None, columns=['hour'])", 
      "time_table.insert(1,'ANPA', tota_ANPA_col)", 
      "time_table.insert(2,'EPFU', tota_EPFU_col)", 
      "time_table.insert(3,'MYEV', tota_MYEV_col)", 
      "time_table.insert(4,'MYTH', tota_MYTH_col)", 
      "time_table.insert(5,'LANO', tota_LANO_col)", 
      "time_table.insert(6,'LACI', tota_LACI_col)", 
      "time_table.insert(7,'MYCA', tota_MYCA_col)", 
      "time_table.insert(8,'LABL', tota_LABL_col)", 
      "time_table.insert(9,'PAHE', tota_PAHE_col)", 
      "time_table.insert(10,'MYLU', tota_MYLU_col)", 
      "time_table.insert(11,'MYVO', tota_MYVO_col)", 
      "time_table.insert(12,'TABR', tota_TABR_col)", 
      "time_table.insert(13,'MYYU', tota_MYYU_col)", 
      "time_table.insert(14,'COTO', tota_COTO_col)", 
      "time_table.insert(15,'EUPE', tota_EUPE_col)"
     ], 
     "language": "python", 
     "outputs": [], 
     "prompt_number": 22
    }, 
    {
     "cell_type": "code", 
     "collapsed": true, 
     "input": [
      "# Export table to csv", 
      "time_table.to_csv('../results/hour_pass_distribution.csv', index=False)"
     ], 
     "language": "python", 
     "outputs": [], 
     "prompt_number": 28
    }, 
    {
     "cell_type": "code", 
     "collapsed": true, 
     "input": [], 
     "language": "python", 
     "outputs": []
    }
   ]
  }
 ]
}
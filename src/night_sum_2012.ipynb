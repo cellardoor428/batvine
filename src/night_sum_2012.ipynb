{
 "metadata": {
  "name": "night_sum_2012"
 }, 
 "nbformat": 2, 
 "worksheets": [
  {
   "cells": [
    {
     "cell_type": "code", 
     "collapsed": true, 
     "input": [
      "# import everything", 
      "import pandas", 
      "pandas.__version__", 
      "", 
      "import pandas as p", 
      "import numpy as np", 
      "import datetime"
     ], 
     "language": "python", 
     "outputs": [], 
     "prompt_number": 1
    }, 
    {
     "cell_type": "code", 
     "collapsed": true, 
     "input": [
      "# Load the batid classified file", 
      "table = p.read_csv('../data/pass_bin_2012.csv')"
     ], 
     "language": "python", 
     "outputs": [], 
     "prompt_number": 2
    }, 
    {
     "cell_type": "code", 
     "collapsed": false, 
     "input": [
      "# Here are the column names - note that the case is the same as the csv", 
      "table.columns"
     ], 
     "language": "python", 
     "outputs": [
      {
       "output_type": "pyout", 
       "prompt_number": 3, 
       "text": [
        "Index([path, folder, pass, ncalls, qual, ANPA, EPFU, MYEV, MYTH, LANO,", 
        "       LACI, MYCA, LABL, PAHE, MYLU, MYVO, TABR, MYYU, COTO, EUPE], dtype=object)"
       ]
      }
     ], 
     "prompt_number": 3
    }, 
    {
     "cell_type": "code", 
     "collapsed": false, 
     "input": [
      "#check out ANPA data (or any other column_", 
      "table['ANPA']"
     ], 
     "language": "python", 
     "outputs": [
      {
       "output_type": "pyout", 
       "prompt_number": 4, 
       "text": [
        "0     0", 
        "1     0", 
        "2     0", 
        "3     0", 
        "4     0", 
        "5     0", 
        "6     0", 
        "7     0", 
        "8     1", 
        "9     0", 
        "10    0", 
        "11    0", 
        "12    0", 
        "13    0", 
        "14    0", 
        "...", 
        "5791    0", 
        "5792    0", 
        "5793    0", 
        "5794    0", 
        "5795    0", 
        "5796    0", 
        "5797    0", 
        "5798    0", 
        "5799    0", 
        "5800    0", 
        "5801    0", 
        "5802    0", 
        "5803    0", 
        "5804    0", 
        "5805    0", 
        "Name: ANPA, Length: 5806"
       ]
      }
     ], 
     "prompt_number": 4
    }, 
    {
     "cell_type": "code", 
     "collapsed": false, 
     "input": [
      "# Make the columns for date and detector_date", 
      "# We will correct for nightly turnover, so date = starting night", 
      "", 
      "pass_col = table['pass']", 
      "", 
      "", 
      "# Setup empty lists to hold columns for date and detector_date", 
      "date_col = []", 
      "detector_date_col = []", 
      "", 
      "# Loop through all passes in pass_col", 
      "for tpass in pass_col.values:", 
      "    ", 
      "    # Split this pass into words, 0th word is detector, 2nd word is date", 
      "    tpass_split = tpass.split('_')", 
      "    tdetect = tpass_split[0]", 
      "    ", 
      "    # Adjust date ", 
      "    ttime = tpass_split [3] # Get time as a string", 
      "    tdate = tpass_split [2] # Get date as a string", 
      "    ", 
      "    if int(ttime) < 120000: # if it's before noon, correct tdate", 
      "        ", 
      "        # Pull out year, month, date from tdate and make all int's", 
      "        tyear = int(tdate[:4])", 
      "        tmonth = int(tdate[4:6])", 
      "        tday = int(tdate[6:])", 
      "        ", 
      "        # Fix the date by subtracting one day", 
      "        tdate_wrong_datetime = datetime.date(tyear, tmonth, tday)", 
      "        one_day = datetime.timedelta(1)", 
      "        tdate_right_datetime = tdate_wrong_datetime - one_day", 
      "        ", 
      "        #get the string back in the right format", 
      "        tdate_right_string_dash = datetime.date.isoformat(tdate_right_datetime)", 
      "        tdate = tdate_right_string_dash.replace('-','')", 
      "    # Add tdate and tdetector_tdate to appropriate cols", 
      "    date_col.append(tdate)", 
      "    detector_date_col.append(tdetect + '_' + tdate)", 
      "", 
      "print pass_col[0:20] # Do a quick visual check", 
      "print date_col[0:20]"
     ], 
     "language": "python", 
     "outputs": [
      {
       "output_type": "stream", 
       "stream": "stdout", 
       "text": [
        "0     SM1_0_20120609_205528_585.00#", 
        "1     SM1_0_20120609_211457_151.00#", 
        "2     SM1_0_20120609_215617_789.00#", 
        "3     SM1_0_20120609_215650_890.00#", 
        "4     SM1_0_20120610_031135_041.00#", 
        "5     SM1_0_20120610_031142_700.00#", 
        "6     SM1_0_20120610_204908_316.00#", 
        "7     SM1_0_20120610_205753_375.00#", 
        "8     SM1_0_20120610_205907_282.00#", 
        "9     SM1_0_20120610_210649_016.00#", 
        "10    SM1_0_20120610_210714_920.00#", 
        "11    SM1_0_20120610_212209_290.00#", 
        "12    SM1_0_20120611_001045_338.00#", 
        "13    SM1_0_20120611_205733_324.00#", 
        "14    SM1_0_20120611_210239_542.00#", 
        "15    SM1_0_20120611_210543_618.00#", 
        "16    SM1_0_20120611_210631_140.00#", 
        "17    SM1_0_20120611_210652_640.00#", 
        "18    SM1_0_20120611_210702_026.00#", 
        "19    SM1_0_20120611_210729_986.00#", 
        "Name: pass", 
        "['20120609', '20120609', '20120609', '20120609', '20120609', '20120609', '20120610', '20120610', '20120610', '20120610', '20120610', '20120610', '20120610', '20120611', '20120611', '20120611', '20120611', '20120611', '20120611', '20120611']"
       ]
      }
     ], 
     "prompt_number": 5
    }, 
    {
     "cell_type": "code", 
     "collapsed": false, 
     "input": [
      "# Adding a column to a data frame is easy", 
      "table.insert(3, 'date', date_col)"
     ], 
     "language": "python", 
     "outputs": [], 
     "prompt_number": 6
    }, 
    {
     "cell_type": "code", 
     "collapsed": true, 
     "input": [
      "table.insert(4, 'detector_date', detector_date_col) # Had to run twice because had a typo the first time"
     ], 
     "language": "python", 
     "outputs": [], 
     "prompt_number": 7
    }, 
    {
     "cell_type": "code", 
     "collapsed": false, 
     "input": [
      "table.columns # Check that they're added"
     ], 
     "language": "python", 
     "outputs": [
      {
       "output_type": "pyout", 
       "prompt_number": 8, 
       "text": [
        "Index([path, folder, pass, date, detector_date, ncalls, qual, ANPA, EPFU,", 
        "       MYEV, MYTH, LANO, LACI, MYCA, LABL, PAHE, MYLU, MYVO, TABR, MYYU,", 
        "       COTO, EUPE], dtype=object)"
       ]
      }
     ], 
     "prompt_number": 8
    }, 
    {
     "cell_type": "code", 
     "collapsed": true, 
     "input": [
      "# Save the csv with these extra cols to cross check visually", 
      "table.to_csv('../results/pass_bin_detector_date_2012.csv')"
     ], 
     "language": "python", 
     "outputs": [], 
     "prompt_number": 9
    }, 
    {
     "cell_type": "code", 
     "collapsed": false, 
     "input": [
      "# Group rows according to the column detector_date", 
      "# This makes a grouped data frame object that isn't easy to visualize", 
      "# But then we can aggregate with the sum function, and see the result", 
      "# This will throw away all non-numeric columns (they can't be added)", 
      "", 
      "gtable = table.groupby('detector_date').sum().reset_index()", 
      "print gtable.columns", 
      "", 
      "# Add a column for total number of passes, while we're here", 
      "# Note that this requires 3 columns be present before the bat call columns", 
      "tota_col = []", 
      "for i in range(len(gtable['detector_date'])):", 
      "    tota_col.append(np.sum(gtable.values[i][3:]))", 
      "", 
      "gtable['TOTA'] = tota_col", 
      "", 
      "# Save result", 
      "gtable.to_csv('../results/pass_bin_2012_nightly_sums.csv', index=False)"
     ], 
     "language": "python", 
     "outputs": [
      {
       "output_type": "stream", 
       "stream": "stdout", 
       "text": [
        "array([detector_date, ncalls, qual, ANPA, EPFU, MYEV, MYTH, LANO, LACI,", 
        "       MYCA, LABL, PAHE, MYLU, MYVO, TABR, MYYU, COTO, EUPE], dtype=object)"
       ]
      }
     ], 
     "prompt_number": 10
    }, 
    {
     "cell_type": "code", 
     "collapsed": true, 
     "input": [
      "# Adding site, using a join with the key detector_date", 
      "", 
      "# Load the site & detector_date to site tables", 
      "dd_site_table = p.read_csv('../data/detector_date_site_2012.csv')", 
      "site_var_table = p.read_csv('../data/site_to_variables.csv')"
     ], 
     "language": "python", 
     "outputs": [], 
     "prompt_number": 11
    }, 
    {
     "cell_type": "code", 
     "collapsed": false, 
     "input": [
      "# Double check the columns", 
      "dd_site_table.columns", 
      "site_var_table.columns"
     ], 
     "language": "python", 
     "outputs": [
      {
       "output_type": "pyout", 
       "prompt_number": 12, 
       "text": [
        "Index([site, extra, pair, lat, long, Vine05km, Vine10km, Vine15km,", 
        "       Vine20km, Vine25km, Vine30km, Vine35km, Vine40km, Vine45km,", 
        "       Vine50km, Vine55km, Vine60km, Hab05km, Hab10km, Hab15km, Hab20km,", 
        "       Hab25km, Hab30km, Hab35km, Hab40km, Hab45km, Hab50km, Hab55km,", 
        "       Hab60km, Hab01_05km, Hab02_05km, Hab03_05km, Hab04_05km, Hab05_05km,", 
        "       Hab06_05km, Hab07_05km, Hab08_05km, Hab09_05km, Hab10_05km,", 
        "       Hab11_05km, Hab12_05km, Hab13_05km, Hab14_05km, Hab15_05km,", 
        "       Hab16_05km, Hab17_05km, Hab18_05km, Hab19_05km, Hab20_05km,", 
        "       Hab21_05km, Hab22_05km, Hab23_05km, Hab24_05km, Hab25_05km,", 
        "       Hab26_05km, Hab27_05km, Hab28_05km, Hab29_05km, Hab30_05km,", 
        "       Hab31_05km, Hab32_05km, Hab33_05km, Hab34_05km, Hab35_05km,", 
        "       Hab36_05km, Hab37_05km, Hab38_05km, Hab39_05km, Hab40_05km,", 
        "       Hab41_05km, Hab42_05km, Hab43_05km, Hab44_05km, Hab45_05km,", 
        "       Hab46_05km, Hab47_05km, Hab48_05km, Hab49_05km, Hab50_05km,", 
        "       Hab51_05km, Hab52_05km, Hab53_05km, Hab54_05km, Hab55_05km,", 
        "       Hab56_05km, Hab57_05km, Hab58_05km, Hab59_05km, Hab60_05km,", 
        "       Hab01_10km, Hab02_10km, Hab03_10km, Hab04_10km, Hab05_10km,", 
        "       Hab06_10km, Hab07_10km, Hab08_10km, Hab09_10km, Hab10_10km,", 
        "       Hab11_10km, Hab12_10km, Hab13_10km, Hab14_10km, Hab15_10km,", 
        "       Hab16_10km, Hab17_10km, Hab18_10km, Hab19_10km, Hab20_10km,", 
        "       Hab21_10km, Hab22_10km, Hab23_10km, Hab24_10km, Hab25_10km,", 
        "       Hab26_10km, Hab27_10km, Hab28_10km, Hab29_10km, Hab30_10km,", 
        "       Hab31_10km, Hab32_10km, Hab33_10km, Hab34_10km, Hab35_10km,", 
        "       Hab36_10km, Hab37_10km, Hab38_10km, Hab39_10km, Hab40_10km,", 
        "       Hab41_10km, Hab42_10km, Hab43_10km, Hab44_10km, Hab45_10km,", 
        "       Hab46_10km, Hab47_10km, Hab48_10km, Hab49_10km, Hab50_10km,", 
        "       Hab51_10km, Hab52_10km, Hab53_10km, Hab54_10km, Hab55_10km,", 
        "       Hab56_10km, Hab57_10km, Hab58_10km, Hab59_10km, Hab60_10km,", 
        "       Hab01_15km, Hab02_15km, Hab03_15km, Hab04_15km, Hab05_15km,", 
        "       Hab06_15km, Hab07_15km, Hab08_15km, Hab09_15km, Hab10_15km,", 
        "       Hab11_15km, Hab12_15km, Hab13_15km, Hab14_15km, Hab15_15km,", 
        "       Hab16_15km, Hab17_15km, Hab18_15km, Hab19_15km, Hab20_15km,", 
        "       Hab21_15km, Hab22_15km, Hab23_15km, Hab24_15km, Hab25_15km,", 
        "       Hab26_15km, Hab27_15km, Hab28_15km, Hab29_15km, Hab30_15km,", 
        "       Hab31_15km, Hab32_15km, Hab33_15km, Hab34_15km, Hab35_15km,", 
        "       Hab36_15km, Hab37_15km, Hab38_15km, Hab39_15km, Hab40_15km,", 
        "       Hab41_15km, Hab42_15km, Hab43_15km, Hab44_15km, Hab45_15km,", 
        "       Hab46_15km, Hab47_15km, Hab48_15km, Hab49_15km, Hab50_15km,", 
        "       Hab51_15km, Hab52_15km, Hab53_15km, Hab54_15km, Hab55_15km,", 
        "       Hab56_15km, Hab57_15km, Hab58_15km, Hab59_15km, Hab60_15km,", 
        "       Hab01_20km, Hab02_20km, Hab03_20km, Hab04_20km, Hab05_20km,", 
        "       Hab06_20km, Hab07_20km, Hab08_20km, Hab09_20km, Hab10_20km,", 
        "       Hab11_20km, Hab12_20km, Hab13_20km, Hab14_20km, Hab15_20km,", 
        "       Hab16_20km, Hab17_20km, Hab18_20km, Hab19_20km, Hab20_20km,", 
        "       Hab21_20km, Hab22_20km, Hab23_20km, Hab24_20km, Hab25_20km,", 
        "       Hab26_20km, Hab27_20km, Hab28_20km, Hab29_20km, Hab30_20km,", 
        "       Hab31_20km, Hab32_20km, Hab33_20km, Hab34_20km, Hab35_20km,", 
        "       Hab36_20km, Hab37_20km, Hab38_20km, Hab39_20km, Hab40_20km,", 
        "       Hab41_20km, Hab42_20km, Hab43_20km, Hab44_20km, Hab45_20km,", 
        "       Hab46_20km, Hab47_20km, Hab48_20km, Hab49_20km, Hab50_20km,", 
        "       Hab51_20km, Hab52_20km, Hab53_20km, Hab54_20km, Hab55_20km,", 
        "       Hab56_20km, Hab57_20km, Hab58_20km, Hab59_20km, Hab60_20km,", 
        "       Hab01_25km, Hab02_25km, Hab03_25km, Hab04_25km, Hab05_25km,", 
        "       Hab06_25km, Hab07_25km, Hab08_25km, Hab09_25km, Hab10_25km,", 
        "       Hab11_25km, Hab12_25km, Hab13_25km, Hab14_25km, Hab15_25km,", 
        "       Hab16_25km, Hab17_25km, Hab18_25km, Hab19_25km, Hab20_25km,", 
        "       Hab21_25km, Hab22_25km, Hab23_25km, Hab24_25km, Hab25_25km,", 
        "       Hab26_25km, Hab27_25km, Hab28_25km, Hab29_25km, Hab30_25km,", 
        "       Hab31_25km, Hab32_25km, Hab33_25km, Hab34_25km, Hab35_25km,", 
        "       Hab36_25km, Hab37_25km, Hab38_25km, Hab39_25km, Hab40_25km,", 
        "       Hab41_25km, Hab42_25km, Hab43_25km, Hab44_25km, Hab45_25km,", 
        "       Hab46_25km, Hab47_25km, Hab48_25km, Hab49_25km, Hab50_25km,", 
        "       Hab51_25km, Hab52_25km, Hab53_25km, Hab54_25km, Hab55_25km,", 
        "       Hab56_25km, Hab57_25km, Hab58_25km, Hab59_25km, Hab60_25km,", 
        "       Hab01_30km, Hab02_30km, Hab03_30km, Hab04_30km, Hab05_30km,", 
        "       Hab06_30km, Hab07_30km, Hab08_30km, Hab09_30km, Hab10_30km,", 
        "       Hab11_30km, Hab12_30km, Hab13_30km, Hab14_30km, Hab15_30km,", 
        "       Hab16_30km, Hab17_30km, Hab18_30km, Hab19_30km, Hab20_30km,", 
        "       Hab21_30km, Hab22_30km, Hab23_30km, Hab24_30km, Hab25_30km,", 
        "       Hab26_30km, Hab27_30km, Hab28_30km, Hab29_30km, Hab30_30km,", 
        "       Hab31_30km, Hab32_30km, Hab33_30km, Hab34_30km, Hab35_30km,", 
        "       Hab36_30km, Hab37_30km, Hab38_30km, Hab39_30km, Hab40_30km,", 
        "       Hab41_30km, Hab42_30km, Hab43_30km, Hab44_30km, Hab45_30km,", 
        "       Hab46_30km, Hab47_30km, Hab48_30km, Hab49_30km, Hab50_30km,", 
        "       Hab51_30km, Hab52_30km, Hab53_30km, Hab54_30km, Hab55_30km,", 
        "       Hab56_30km, Hab57_30km, Hab58_30km, Hab59_30km, Hab60_30km,", 
        "       Hab01_35km, Hab02_35km, Hab03_35km, Hab04_35km, Hab05_35km,", 
        "       Hab06_35km, Hab07_35km, Hab08_35km, Hab09_35km, Hab10_35km,", 
        "       Hab11_35km, Hab12_35km, Hab13_35km, Hab14_35km, Hab15_35km,", 
        "       Hab16_35km, Hab17_35km, Hab18_35km, Hab19_35km, Hab20_35km,", 
        "       Hab21_35km, Hab22_35km, Hab23_35km, Hab24_35km, Hab25_35km,", 
        "       Hab26_35km, Hab27_35km, Hab28_35km, Hab29_35km, Hab30_35km,", 
        "       Hab31_35km, Hab32_35km, Hab33_35km, Hab34_35km, Hab35_35km,", 
        "       Hab36_35km, Hab37_35km, Hab38_35km, Hab39_35km, Hab40_35km,", 
        "       Hab41_35km, Hab42_35km, Hab43_35km, Hab44_35km, Hab45_35km,", 
        "       Hab46_35km, Hab47_35km, Hab48_35km, Hab49_35km, Hab50_35km,", 
        "       Hab51_35km, Hab52_35km, Hab53_35km, Hab54_35km, Hab55_35km,", 
        "       Hab56_35km, Hab57_35km, Hab58_35km, Hab59_35km, Hab60_35km,", 
        "       Hab01_40km, Hab02_40km, Hab03_40km, Hab04_40km, Hab05_40km,", 
        "       Hab06_40km, Hab07_40km, Hab08_40km, Hab09_40km, Hab10_40km,", 
        "       Hab11_40km, Hab12_40km, Hab13_40km, Hab14_40km, Hab15_40km,", 
        "       Hab16_40km, Hab17_40km, Hab18_40km, Hab19_40km, Hab20_40km,", 
        "       Hab21_40km, Hab22_40km, Hab23_40km, Hab24_40km, Hab25_40km,", 
        "       Hab26_40km, Hab27_40km, Hab28_40km, Hab29_40km, Hab30_40km,", 
        "       Hab31_40km, Hab32_40km, Hab33_40km, Hab34_40km, Hab35_40km,", 
        "       Hab36_40km, Hab37_40km, Hab38_40km, Hab39_40km, Hab40_40km,", 
        "       Hab41_40km, Hab42_40km, Hab43_40km, Hab44_40km, Hab45_40km,", 
        "       Hab46_40km, Hab47_40km, Hab48_40km, Hab49_40km, Hab50_40km,", 
        "       Hab51_40km, Hab52_40km, Hab53_40km, Hab54_40km, Hab55_40km,", 
        "       Hab56_40km, Hab57_40km, Hab58_40km, Hab59_40km, Hab60_40km,", 
        "       Hab01_45km, Hab02_45km, Hab03_45km, Hab04_45km, Hab05_45km,", 
        "       Hab06_45km, Hab07_45km, Hab08_45km, Hab09_45km, Hab10_45km,", 
        "       Hab11_45km, Hab12_45km, Hab13_45km, Hab14_45km, Hab15_45km,", 
        "       Hab16_45km, Hab17_45km, Hab18_45km, Hab19_45km, Hab20_45km,", 
        "       Hab21_45km, Hab22_45km, Hab23_45km, Hab24_45km, Hab25_45km,", 
        "       Hab26_45km, Hab27_45km, Hab28_45km, Hab29_45km, Hab30_45km,", 
        "       Hab31_45km, Hab32_45km, Hab33_45km, Hab34_45km, Hab35_45km,", 
        "       Hab36_45km, Hab37_45km, Hab38_45km, Hab39_45km, Hab40_45km,", 
        "       Hab41_45km, Hab42_45km, Hab43_45km, Hab44_45km, Hab45_45km,", 
        "       Hab46_45km, Hab47_45km, Hab48_45km, Hab49_45km, Hab50_45km,", 
        "       Hab51_45km, Hab52_45km, Hab53_45km, Hab54_45km, Hab55_45km,", 
        "       Hab56_45km, Hab57_45km, Hab58_45km, Hab59_45km, Hab60_45km,", 
        "       Hab01_50km, Hab02_50km, Hab03_50km, Hab04_50km, Hab05_50km,", 
        "       Hab06_50km, Hab07_50km, Hab08_50km, Hab09_50km, Hab10_50km,", 
        "       Hab11_50km, Hab12_50km, Hab13_50km, Hab14_50km, Hab15_50km,", 
        "       Hab16_50km, Hab17_50km, Hab18_50km, Hab19_50km, Hab20_50km,", 
        "       Hab21_50km, Hab22_50km, Hab23_50km, Hab24_50km, Hab25_50km,", 
        "       Hab26_50km, Hab27_50km, Hab28_50km, Hab29_50km, Hab30_50km,", 
        "       Hab31_50km, Hab32_50km, Hab33_50km, Hab34_50km, Hab35_50km,", 
        "       Hab36_50km, Hab37_50km, Hab38_50km, Hab39_50km, Hab40_50km,", 
        "       Hab41_50km, Hab42_50km, Hab43_50km, Hab44_50km, Hab45_50km,", 
        "       Hab46_50km, Hab47_50km, Hab48_50km, Hab49_50km, Hab50_50km,", 
        "       Hab51_50km, Hab52_50km, Hab53_50km, Hab54_50km, Hab55_50km,", 
        "       Hab56_50km, Hab57_50km, Hab58_50km, Hab59_50km, Hab60_50km,", 
        "       Hab01_55km, Hab02_55km, Hab03_55km, Hab04_55km, Hab05_55km,", 
        "       Hab06_55km, Hab07_55km, Hab08_55km, Hab09_55km, Hab10_55km,", 
        "       Hab11_55km, Hab12_55km, Hab13_55km, Hab14_55km, Hab15_55km,", 
        "       Hab16_55km, Hab17_55km, Hab18_55km, Hab19_55km, Hab20_55km,", 
        "       Hab21_55km, Hab22_55km, Hab23_55km, Hab24_55km, Hab25_55km,", 
        "       Hab26_55km, Hab27_55km, Hab28_55km, Hab29_55km, Hab30_55km,", 
        "       Hab31_55km, Hab32_55km, Hab33_55km, Hab34_55km, Hab35_55km,", 
        "       Hab36_55km, Hab37_55km, Hab38_55km, Hab39_55km, Hab40_55km,", 
        "       Hab41_55km, Hab42_55km, Hab43_55km, Hab44_55km, Hab45_55km,", 
        "       Hab46_55km, Hab47_55km, Hab48_55km, Hab49_55km, Hab50_55km,", 
        "       Hab51_55km, Hab52_55km, Hab53_55km, Hab54_55km, Hab55_55km,", 
        "       Hab56_55km, Hab57_55km, Hab58_55km, Hab59_55km, Hab60_55km,", 
        "       Hab01_60km, Hab02_60km, Hab03_60km, Hab04_60km, Hab05_60km,", 
        "       Hab06_60km, Hab07_60km, Hab08_60km, Hab09_60km, Hab10_60km,", 
        "       Hab11_60km, Hab12_60km, Hab13_60km, Hab14_60km, Hab15_60km,", 
        "       Hab16_60km, Hab17_60km, Hab18_60km, Hab19_60km, Hab20_60km,", 
        "       Hab21_60km, Hab22_60km, Hab23_60km, Hab24_60km, Hab25_60km,", 
        "       Hab26_60km, Hab27_60km, Hab28_60km, Hab29_60km, Hab30_60km,", 
        "       Hab31_60km, Hab32_60km, Hab33_60km, Hab34_60km, Hab35_60km,", 
        "       Hab36_60km, Hab37_60km, Hab38_60km, Hab39_60km, Hab40_60km,", 
        "       Hab41_60km, Hab42_60km, Hab43_60km, Hab44_60km, Hab45_60km,", 
        "       Hab46_60km, Hab47_60km, Hab48_60km, Hab49_60km, Hab50_60km,", 
        "       Hab51_60km, Hab52_60km, Hab53_60km, Hab54_60km, Hab55_60km,", 
        "       Hab56_60km, Hab57_60km, Hab58_60km, Hab59_60km, Hab60_60km], dtype=object)"
       ]
      }
     ], 
     "prompt_number": 12
    }, 
    {
     "cell_type": "code", 
     "collapsed": true, 
     "input": [
      "# Take gtable and join first dd_site_table on the key detector_date", 
      "#...then site_var_tableon the key site", 
      "join1 = p.merge(gtable, dd_site_table, on='detector_date', how='left')", 
      "join2 = p.merge(join1, site_var_table, on='site', how='left')"
     ], 
     "language": "python", 
     "outputs": [], 
     "prompt_number": 13
    }, 
    {
     "cell_type": "code", 
     "collapsed": true, 
     "input": [
      "# Save the double-joined table", 
      "join2.to_csv('../results/pass_bin_2012_nightly_sums_full.csv')"
     ], 
     "language": "python", 
     "outputs": [], 
     "prompt_number": 14
    }, 
    {
     "cell_type": "code", 
     "collapsed": false, 
     "input": [
      "a = 4", 
      "a * a"
     ], 
     "language": "python", 
     "outputs": [
      {
       "output_type": "pyout", 
       "prompt_number": 17, 
       "text": [
        "16"
       ]
      }
     ], 
     "prompt_number": 17
    }, 
    {
     "cell_type": "code", 
     "collapsed": true, 
     "input": [
      "def square_it_and_mult(num1, num2):", 
      "    return (num1 ** 2) * num2"
     ], 
     "language": "python", 
     "outputs": [], 
     "prompt_number": 21
    }, 
    {
     "cell_type": "code", 
     "collapsed": false, 
     "input": [
      "square_it_and_mult(3,2)"
     ], 
     "language": "python", 
     "outputs": [
      {
       "output_type": "pyout", 
       "prompt_number": 23, 
       "text": [
        "18"
       ]
      }
     ], 
     "prompt_number": 23
    }, 
    {
     "cell_type": "code", 
     "collapsed": true, 
     "input": [], 
     "language": "python", 
     "outputs": []
    }
   ]
  }
 ]
}
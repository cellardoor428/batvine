{
 "metadata": {
  "name": "insect_data"
 },
 "nbformat": 3,
 "nbformat_minor": 0,
 "worksheets": [
  {
   "cells": [
    {
     "cell_type": "code",
     "collapsed": true,
     "input": [
      "# Import everything\n",
      "import pandas as p\n",
      "import numpy as np\n",
      "import datetime"
     ],
     "language": "python",
     "metadata": {},
     "outputs": [],
     "prompt_number": 1
    },
    {
     "cell_type": "code",
     "collapsed": true,
     "input": [
      "# Load the csv\n",
      "table = p.read_csv('../data/detector_date_site_2011_insect.csv')"
     ],
     "language": "python",
     "metadata": {},
     "outputs": [],
     "prompt_number": 2
    },
    {
     "cell_type": "code",
     "collapsed": false,
     "input": [
      "print table.columns"
     ],
     "language": "python",
     "metadata": {},
     "outputs": [
      {
       "output_type": "stream",
       "stream": "stdout",
       "text": [
        "array([site, detector_date, bug_1, bug_2, bug_3], dtype=object)\n"
       ]
      }
     ],
     "prompt_number": 3
    },
    {
     "cell_type": "code",
     "collapsed": false,
     "input": [
      "# set up an empty list to hold date\n",
      "dd_col = table['detector_date']\n",
      "date_col = []\n",
      "\n",
      "# Loop through detector date and get date\n",
      "for i in dd_col:\n",
      "    # Split dd column into words, the 1st word being date\n",
      "    i_split = i.split('_')\n",
      "    tdate = i_split[1] # get date as a string\n",
      "    date_col.append(tdate)\n",
      "table.insert(1, 'date', date_col)"
     ],
     "language": "python",
     "metadata": {},
     "outputs": [],
     "prompt_number": 4
    },
    {
     "cell_type": "code",
     "collapsed": false,
     "input": [
      "# Setup empty column to hold closest bug date\n",
      "close_bug = []\n",
      "\n",
      "# Loop through all dates and find the closest bug count date (bug count dates = 7/14, 8/2, and 8/18, thus midway points = 7/24 and 8/10. \n",
      "for i in table['date']:\n",
      "    mini_table = table[table['date'] == i]\n",
      "\n",
      "    if int(i) < 20110724: \n",
      "       close_bug.append(table['bug_1'][0]) # total trial and error\n",
      "    \n",
      "    if int(i) > 20110810:\n",
      "       close_bug.append(table['bug_3'][0])\n",
      "    \n",
      "    if 20110724 <= int(i) <=  20110810:\n",
      "       close_bug.append(table['bug_2'][0])\n"
     ],
     "language": "python",
     "metadata": {},
     "outputs": [],
     "prompt_number": 5
    },
    {
     "cell_type": "code",
     "collapsed": false,
     "input": [
      "# insert the closest bug_date column into the table\n",
      "table.insert(3, 'bug_date', close_bug)"
     ],
     "language": "python",
     "metadata": {},
     "outputs": [],
     "prompt_number": 6
    },
    {
     "cell_type": "code",
     "collapsed": false,
     "input": [
      "# Save table as csv and double check that everything looks good, (since I can't figure out how to make pandas print table.head\n",
      "table.to_csv('../results/detector_date_close_bug.csv', index = False) # looks good"
     ],
     "language": "python",
     "metadata": {},
     "outputs": [],
     "prompt_number": 7
    },
    {
     "cell_type": "code",
     "collapsed": true,
     "input": [
      "# Now import the table that has the actual insect count data for each date and site\n",
      "btable = p.read_csv('../data/site_wglh_2011.csv')"
     ],
     "language": "python",
     "metadata": {},
     "outputs": [],
     "prompt_number": 8
    },
    {
     "cell_type": "code",
     "collapsed": false,
     "input": [
      "# Merge the detector_date_site table (that has the closest bug date) with the table that has the actual counts\n",
      "join = p.merge(table, btable, on = 'site', how = 'left')"
     ],
     "language": "python",
     "metadata": {},
     "outputs": [],
     "prompt_number": 9
    },
    {
     "cell_type": "code",
     "collapsed": false,
     "input": [
      "# double check the columns\n",
      "join.columns"
     ],
     "language": "python",
     "metadata": {},
     "outputs": [
      {
       "output_type": "pyout",
       "prompt_number": 10,
       "text": [
        "Index([site, date, detector_date, bug_date, bug_1, bug_2, bug_3, 20110714,\n",
        "       20110802, 20110818], dtype=object)"
       ]
      }
     ],
     "prompt_number": 10
    },
    {
     "cell_type": "code",
     "collapsed": false,
     "input": [
      "# To get the bug_counts for the appropriate dates: set the right date as the condition, then extract the bug_counts where the condition \n",
      "# (right date) is met. I also need to extract the detector_date, so i can correctly match the bug count with the right site/date\n",
      "\n",
      "# 1st from 20110714\n",
      "condition1 = join['bug_date'] == 20110714 # Set the closest bug_date as the condition\n",
      "bug_count1 = np.extract(condition1, join['20110714']) # Extract the bug count from the corresponding date\n",
      "dd1 = np.extract(condition1, join['detector_date']) # Extract the detector_date from the condition\n",
      "\n",
      "# 2nd from 20110802\n",
      "condition2 = join['bug_date'] == 20110802\n",
      "bug_count2 = np.extract(condition2, join['20110802'])\n",
      "dd2 = np.extract(condition2, join['detector_date'])\n",
      "\n",
      "# 3rd from 20110818\n",
      "condition3 = join['bug_date'] == 20110818\n",
      "bug_count3 = np.extract(condition3, join['20110818'])\n",
      "dd3 = np.extract(condition3, join['detector_date'])\n",
      "\n",
      "# Double check that the lengths match up with the total number of nights\n",
      "print len(bug_count1)\n",
      "print len(bug_count2)\n",
      "print len(bug_count3)\n",
      "\n",
      "print len(join['bug_date'])\n",
      "# 60 + 96 + 114 = 270, thats right, still need to visually check that the correct counts were matched, will convert to csv first\n",
      "\n",
      "# Stack the 3 bug counts and the detector_dates\n",
      "bug_count = np.hstack((bug_count1, bug_count2, bug_count3))\n",
      "dd = np.hstack((dd1, dd2, dd3))\n",
      "\n",
      "# Create a DataFrame with the detector_date and the correct bug count\n",
      "dd_bug_count = p.DataFrame(data = dd, index =None, columns =['detector_date'])\n",
      "dd_bug_count.insert(1, 'bug_count', bug_count)\n",
      "\n",
      "# Merge the dd_bug_count dataframe and the join table, using detector_date as the kwy, so that the bug_counts are matched with the \n",
      "# correct site/date\n",
      "join1 = p.merge(join, dd_bug_count, on ='detector_date', how='left')\n",
      "\n",
      "join1.columns"
     ],
     "language": "python",
     "metadata": {},
     "outputs": [
      {
       "output_type": "stream",
       "stream": "stdout",
       "text": [
        "60\n",
        "96\n",
        "114\n",
        "270\n"
       ]
      },
      {
       "output_type": "pyout",
       "prompt_number": 11,
       "text": [
        "Index([site, date, detector_date, bug_date, bug_1, bug_2, bug_3, 20110714,\n",
        "       20110802, 20110818, bug_count], dtype=object)"
       ]
      }
     ],
     "prompt_number": 11
    },
    {
     "cell_type": "code",
     "collapsed": false,
     "input": [
      "# Make the fixed bug_count table a csv (manually check that the correct bug_counts have been appended to the right sites/ detector_dates)\n",
      "join1.to_csv('../results/dd_site_right_pest_density.csv', index=False) # Success! - Keep this csv as a reference"
     ],
     "language": "python",
     "metadata": {},
     "outputs": [],
     "prompt_number": 12
    },
    {
     "cell_type": "code",
     "collapsed": false,
     "input": [
      "# Now I will just save the dd_bug_count dataframe as a csv\n",
      "dd_bug_count.to_csv('../results/closest_bug_count.csv', index=False)"
     ],
     "language": "python",
     "metadata": {},
     "outputs": [],
     "prompt_number": 29
    },
    {
     "cell_type": "code",
     "collapsed": false,
     "input": [
      "# This is me trying to calculate the difference between the date and the bug_date: can't figure out how to do it :(\n",
      "for b in join['bug_date']:\n",
      "    bd = str(b)\n",
      "    btyear = int(bd[:4])\n",
      "    btmonth = int(bd[4:6])\n",
      "    btday = int(bd[6:])\n",
      "    dt_bug_date = datetime.date(btyear, btmonth, btday)\n",
      "    \n",
      "\n",
      "for i in join['date']:\n",
      "    # Convert the date to a datetime object\n",
      "    tyear = int(i[:4])\n",
      "    tmonth = int(i[4:6])\n",
      "    tday = int(i[6:])\n",
      "    dtdate = datetime.date(tyear, tmonth, tday)\n",
      "    \n",
      "    # Convert the bug_datae to a datetime object\n",
      "    datetime.timedelta(dtdate, dt_bug_date)"
     ],
     "language": "python",
     "metadata": {},
     "outputs": []
    },
    {
     "cell_type": "code",
     "collapsed": false,
     "input": [],
     "language": "python",
     "metadata": {},
     "outputs": []
    },
    {
     "cell_type": "code",
     "collapsed": false,
     "input": [
      "    "
     ],
     "language": "python",
     "metadata": {},
     "outputs": []
    }
   ],
   "metadata": {}
  }
 ]
}
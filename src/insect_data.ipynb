{
 "metadata": {
  "name": "insect_data"
 },
 "nbformat": 3,
 "nbformat_minor": 0,
 "worksheets": [
  {
   "cells": [
    {
     "cell_type": "code",
     "collapsed": true,
     "input": [
      "# Import everything\n",
      "import pandas as p\n",
      "import numpy as np\n",
      "import datetime"
     ],
     "language": "python",
     "metadata": {},
     "outputs": [],
     "prompt_number": 7
    },
    {
     "cell_type": "code",
     "collapsed": true,
     "input": [
      "# Load the csv\n",
      "table = p.read_csv('../data/detector_date_site_2011_insect.csv')"
     ],
     "language": "python",
     "metadata": {},
     "outputs": [],
     "prompt_number": 8
    },
    {
     "cell_type": "code",
     "collapsed": false,
     "input": [
      "print table.columns"
     ],
     "language": "python",
     "metadata": {},
     "outputs": [
      {
       "output_type": "stream",
       "stream": "stdout",
       "text": [
        "array([site, detector_date, bug_1, bug_2, bug_3], dtype=object)\n"
       ]
      }
     ],
     "prompt_number": 9
    },
    {
     "cell_type": "code",
     "collapsed": false,
     "input": [
      "# set up an empty list to hold date\n",
      "dd_col = table['detector_date']\n",
      "date_col = []\n",
      "\n",
      "# Loop through detector date and get date\n",
      "for i in dd_col:\n",
      "    # Split dd column into words, the 1st word being date\n",
      "    i_split = i.split('_')\n",
      "    tdate = i_split[1] # get date as a string\n",
      "    date_col.append(tdate)\n",
      "table.insert(1, 'date', date_col)"
     ],
     "language": "python",
     "metadata": {},
     "outputs": [],
     "prompt_number": 10
    },
    {
     "cell_type": "code",
     "collapsed": false,
     "input": [
      "# Setup empty column to hold closest bug date\n",
      "close_bug = []\n",
      "\n",
      "# Loop through all dates and find the closest bug count date (bug count dates = 7/14, 8/2, and 8/18, thus midway points = 7/24 and 8/10. \n",
      "for i in table['date']:\n",
      "    mini_table = table[table['date'] == i]\n",
      "\n",
      "    if int(i) < 20110724: \n",
      "       close_bug.append(table['bug_1'][0]) # total trial and error\n",
      "    \n",
      "    if int(i) > 20110810:\n",
      "       close_bug.append(table['bug_3'][0])\n",
      "    \n",
      "    if 20110724 <= int(i) <=  20110810:\n",
      "       close_bug.append(table['bug_2'][0])\n"
     ],
     "language": "python",
     "metadata": {},
     "outputs": [],
     "prompt_number": 14
    },
    {
     "cell_type": "code",
     "collapsed": false,
     "input": [
      "# insert the closest bug_date column into the table\n",
      "table.insert(3, 'bug_date', close_bug)"
     ],
     "language": "python",
     "metadata": {},
     "outputs": [],
     "prompt_number": 16
    },
    {
     "cell_type": "code",
     "collapsed": false,
     "input": [
      "# Save table as csv and double check that everything looks good, (since I can't figure out how to make pandas print table.head\n",
      "table.to_csv('../results/detector_date_close_bug.csv', index = False) # looks good"
     ],
     "language": "python",
     "metadata": {},
     "outputs": [],
     "prompt_number": 17
    },
    {
     "cell_type": "code",
     "collapsed": true,
     "input": [
      "# Now import the table that has the actual insect count data for each date and site\n",
      "btable = p.read_csv('../data/site_wglh_2011.csv')"
     ],
     "language": "python",
     "metadata": {},
     "outputs": [],
     "prompt_number": 18
    },
    {
     "cell_type": "code",
     "collapsed": false,
     "input": [
      "# Merge the detector_date_site table (that has the closest bug date) with the table that has the actual counts\n",
      "join = p.merge(table, btable, on = 'site', how = 'left')"
     ],
     "language": "python",
     "metadata": {},
     "outputs": [],
     "prompt_number": 19
    },
    {
     "cell_type": "code",
     "collapsed": false,
     "input": [
      "# double check the columns\n",
      "join.columns"
     ],
     "language": "python",
     "metadata": {},
     "outputs": [
      {
       "output_type": "pyout",
       "prompt_number": 20,
       "text": [
        "Index([site, date, detector_date, bug_date, bug_1, bug_2, bug_3, 20110714,\n",
        "       20110802, 20110818], dtype=object)"
       ]
      }
     ],
     "prompt_number": 20
    },
    {
     "cell_type": "code",
     "collapsed": false,
     "input": [
      "# set up empty list to hold bug counts\n",
      "bug_count = []\n",
      "\n",
      "# Concatenate the bug_date column with the columns containing the count data for the 3 dates\n",
      "bug_date = p.concat((join['bug_date'], join['20110714'], join['20110802'], join['20110818']), axis=1)\n",
      "\n",
      "\n",
      "# Loop through all bug_date and append the appropriate count data to the bug_count column\n"
     ],
     "language": "python",
     "metadata": {},
     "outputs": [
      {
       "ename": "IndentationError",
       "evalue": "expected an indented block (<ipython-input-140-37039a6f3346>, line 10)",
       "output_type": "pyerr",
       "traceback": [
        "\u001b[0;31mIndentationError\u001b[0m\u001b[0;31m:\u001b[0m expected an indented block\n"
       ]
      }
     ],
     "prompt_number": 140
    },
    {
     "cell_type": "code",
     "collapsed": false,
     "input": [
      "#print type(bug_date)\n",
      "print bug_date[:10]\n",
      "#print bug_date.columns\n",
      "#bug_date[0]\n",
      "\n"
     ],
     "language": "python",
     "metadata": {},
     "outputs": [
      {
       "output_type": "stream",
       "stream": "stdout",
       "text": [
        "          0  1  2    3\n",
        "0  20110818  2  9  6.4\n",
        "1  20110818  2  9  6.4\n",
        "2  20110818  2  9  6.4\n",
        "3  20110714  2  9  6.4\n",
        "4  20110714  2  9  6.4\n",
        "5  20110714  2  9  6.4\n",
        "6  20110818  2  9  6.4\n",
        "7  20110818  2  9  6.4\n",
        "8  20110818  2  9  6.4\n",
        "9  20110714  2  9  6.4\n"
       ]
      },
      {
       "output_type": "pyout",
       "prompt_number": 125,
       "text": [
        "0     20110818\n",
        "1     20110818\n",
        "2     20110818\n",
        "3     20110714\n",
        "4     20110714\n",
        "5     20110714\n",
        "6     20110818\n",
        "7     20110818\n",
        "8     20110818\n",
        "9     20110714\n",
        "10    20110714\n",
        "11    20110714\n",
        "12    20110818\n",
        "13    20110818\n",
        "14    20110818\n",
        "...\n",
        "255    20110802\n",
        "256    20110802\n",
        "257    20110802\n",
        "258    20110802\n",
        "259    20110818\n",
        "260    20110818\n",
        "261    20110818\n",
        "262    20110802\n",
        "263    20110802\n",
        "264    20110802\n",
        "265    20110802\n",
        "266    20110802\n",
        "267    20110802\n",
        "268    20110802\n",
        "269    20110802\n",
        "Name: 0, Length: 270"
       ]
      }
     ],
     "prompt_number": 125
    },
    {
     "cell_type": "code",
     "collapsed": false,
     "input": [],
     "language": "python",
     "metadata": {},
     "outputs": []
    }
   ],
   "metadata": {}
  }
 ]
}
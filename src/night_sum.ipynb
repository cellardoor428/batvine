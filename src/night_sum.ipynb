{
 "metadata": {
  "name": "night_sum"
 }, 
 "nbformat": 2, 
 "worksheets": [
  {
   "cells": [
    {
     "cell_type": "code", 
     "collapsed": false, 
     "input": [
      "# Import everything", 
      "import numpy as np", 
      "import pandas as p", 
      "import datetime"
     ], 
     "language": "python", 
     "outputs": [
      {
       "ename": "ImportError", 
       "evalue": "No module named pandas", 
       "output_type": "pyerr", 
       "traceback": [
        "\u001b[0;31m---------------------------------------------------------------------------\u001b[0m\n\u001b[0;31mImportError\u001b[0m                               Traceback (most recent call last)", 
        "\u001b[0;32m/Users/cellardoor428/batvine/src/<ipython-input-8-d8d7d0940540>\u001b[0m in \u001b[0;36m<module>\u001b[0;34m()\u001b[0m\n\u001b[1;32m      1\u001b[0m \u001b[0;31m# Import everything\u001b[0m\n\u001b[0;34m\u001b[0m\u001b[0m\n\u001b[1;32m      2\u001b[0m \u001b[0;32mimport\u001b[0m \u001b[0mnumpy\u001b[0m \u001b[0;32mas\u001b[0m \u001b[0mnp\u001b[0m\u001b[0;34m\u001b[0m\u001b[0m\n\u001b[0;32m----> 3\u001b[0;31m \u001b[0;32mimport\u001b[0m \u001b[0mpandas\u001b[0m \u001b[0;32mas\u001b[0m \u001b[0mp\u001b[0m\u001b[0;34m\u001b[0m\u001b[0m\n\u001b[0m\u001b[1;32m      4\u001b[0m \u001b[0;32mimport\u001b[0m \u001b[0mdatetime\u001b[0m\u001b[0;34m\u001b[0m\u001b[0m\n", 
        "\u001b[0;31mImportError\u001b[0m: No module named pandas"
       ]
      }
     ], 
     "prompt_number": 8
    }, 
    {
     "cell_type": "code", 
     "collapsed": false, 
     "input": [
      "# Load the batid classified file", 
      "table = p.read_csv('../data/pass_bin.csv')"
     ], 
     "language": "python", 
     "outputs": []
    }, 
    {
     "cell_type": "code", 
     "collapsed": false, 
     "input": [
      "# Here are the column names - note that the case is the same as the csv", 
      "table.columns"
     ], 
     "language": "python", 
     "outputs": []
    }, 
    {
     "cell_type": "code", 
     "collapsed": false, 
     "input": [
      "# Check out ANPA data (or any other column)", 
      "table['ANPA']"
     ], 
     "language": "python", 
     "outputs": []
    }, 
    {
     "cell_type": "code", 
     "collapsed": false, 
     "input": [
      "# Make the columns for date and detector_date", 
      "# We will correct for nightly turnover, so date = starting night", 
      "", 
      "pass_col = table['pass']", 
      "", 
      "# Set up empty lists to hold columns for date and detector_date", 
      "date_col = []", 
      "detector_date_col = []", 
      "", 
      "# Loop through all passes in pass_col", 
      "for tpass in pass_col.values:", 
      "", 
      "    # Split this pass into words, 0th word is detector, 2nd word is date", 
      "    tpass_split = tpass.split('_')", 
      "    tdetect = tpass_split[0]", 
      "    ", 
      "    # Adjust date", 
      "    ttime = tpass_split[3]  # Get time as a string", 
      "    tdate = tpass_split[2]  # Get date as a string", 
      "    ", 
      "    if int(ttime) < 120000:  # If it's before noon, correct tdate", 
      "        ", 
      "        # Pull out year, month, date from tdate and make all int's", 
      "        tyear = int(tdate[:4])", 
      "        tmonth = int(tdate[4:6])", 
      "        tday = int(tdate[6:])", 
      "        ", 
      "        # Fix the date by subtracting one day", 
      "        tdate_wrong_datetime = datetime.date(tyear, tmonth, tday)", 
      "        one_day = datetime.timedelta(1)", 
      "        tdate_right_datetime = tdate_wrong_datetime - one_day", 
      "        ", 
      "        # Get the string back in the right format", 
      "        tdate_right_string_dash = datetime.date.isoformat(tdate_right_datetime)", 
      "        tdate = tdate_right_string_dash.replace('-','')", 
      "    ", 
      "    # Add tdate and tdetector_tdate to appropriate cols", 
      "    date_col.append(tdate)", 
      "    detector_date_col.append(tdetect + '_' + tdate)", 
      "", 
      "print pass_col[0:20]  # Do a quick visual check", 
      "print date_col[0:20]"
     ], 
     "language": "python", 
     "outputs": []
    }, 
    {
     "cell_type": "code", 
     "collapsed": true, 
     "input": [
      "# Adding a column to a data frame is easy", 
      "table.insert(3, 'date', date_col)", 
      "table.insert(4, 'detector_date', detector_date_col)"
     ], 
     "language": "python", 
     "outputs": []
    }, 
    {
     "cell_type": "code", 
     "collapsed": false, 
     "input": [
      "table.columns  # Check that they're added"
     ], 
     "language": "python", 
     "outputs": []
    }, 
    {
     "cell_type": "code", 
     "collapsed": true, 
     "input": [
      "# Save csv with these extra cols to cross check visually", 
      "table.to_csv('../results/pass_bin_detector_date.csv')"
     ], 
     "language": "python", 
     "outputs": []
    }, 
    {
     "cell_type": "code", 
     "collapsed": false, 
     "input": [
      "# Group rows according to the column detector_date", 
      "# This makes a grouped data frame object that isn't easy to visualize", 
      "# But then we can aggregate with the sum function, and see the result", 
      "# This will throw away all non-numeric colums (they can't be added)", 
      "# See http://pandas.pydata.org/pandas-docs/dev/groupby.html", 
      "", 
      "gtable = table.groupby('detector_date').sum().reset_index()", 
      "print gtable.columns", 
      "", 
      "# Add a column for total number of passes, while we're here", 
      "# Note that this requires 3 columns be present before the bat call columns", 
      "tota_col = []", 
      "for i in range(len(gtable['detector_date'])):", 
      "    tota_col.append(np.sum(gtable.values[i][3:]))  # Total trial and error", 
      "", 
      "gtable['TOTA'] = tota_col", 
      "    ", 
      "# Save result", 
      "gtable.to_csv('../results/pass_bin_nightly_sums.csv', index=False)", 
      "", 
      "# Check the csv for accuracy - looks good!"
     ], 
     "language": "python", 
     "outputs": []
    }, 
    {
     "cell_type": "code", 
     "collapsed": true, 
     "input": [
      "# Now, we know that the detector_date is our 'atomic unit' of data (for now)", 
      "# So each row in ntable is a data point, and we need to add some variables", 
      "# that we can use to analyze what factors drive changes in bat abundance.", 
      "# Let's start by adding site, using a join with the key detector_date", 
      "# (This is the table that Rochelle is creating now, but we'll use a sample.)", 
      "# Then, we can use site as a key and use join to get some other variables.", 
      "# (This is the second table that we'll need.)", 
      "# For now, we can just use some sample tables in the data folder.", 
      "", 
      "# Note that the sample tables are incomplete, and values they don't contain", 
      "# will have NA.", 
      "", 
      "# Load the two sample tables", 
      "dd_site_table = p.read_csv('../data/detector_date_to_site_samp.csv')", 
      "site_var_table = p.read_csv('../data/site_to_variables_samp.csv')", 
      "", 
      "# Take gtable and join first dd_site_table on the key detector_date", 
      "# ... then site_var_table on the key site", 
      "join1 = p.merge(gtable, dd_site_table, on='detector_date', how='left')", 
      "join2 = p.merge(join1, site_var_table, on='site', how='left')", 
      "", 
      "# Save the doubly-joined table", 
      "join2.to_csv('../results/pass_bin_nightly_sums_full.csv')", 
      "", 
      "# Joins are a bit conceptually difficult - have a look at this page", 
      "# http://pandas.pydata.org/pandas-docs/dev/merging.html#database-style-dataframe-joining-merging", 
      "# But still might require some explanation first - we can discuss", 
      "# But suffice to say, it works!", 
      "# If you can generate full tables like the two _samp tables in data, we'll be in business."
     ], 
     "language": "python", 
     "outputs": []
    }, 
    {
     "cell_type": "code", 
     "collapsed": true, 
     "input": [], 
     "language": "python", 
     "outputs": []
    }
   ]
  }
 ]
}
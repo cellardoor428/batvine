{
 "metadata": {
  "name": "night_sum"
 }, 
 "nbformat": 2, 
 "worksheets": [
  {
   "cells": [
    {
     "cell_type": "code", 
     "collapsed": true, 
     "input": [
      "# Import everything", 
      "import numpy as np", 
      "from matplotlib.mlab import csv2rec, rec2csv, rec_append_fields", 
      "import datetime"
     ], 
     "language": "python", 
     "outputs": [], 
     "prompt_number": 2
    }, 
    {
     "cell_type": "code", 
     "collapsed": true, 
     "input": [
      "# Load the batid classified file", 
      "table = csv2rec('../data/pass_bin.csv')"
     ], 
     "language": "python", 
     "outputs": [], 
     "prompt_number": 3
    }, 
    {
     "cell_type": "code", 
     "collapsed": false, 
     "input": [
      "table.dtype.names"
     ], 
     "language": "python", 
     "outputs": [
      {
       "output_type": "pyout", 
       "prompt_number": 4, 
       "text": [
        "(&apos;path&apos;,", 
        " &apos;folder&apos;,", 
        " &apos;pass&apos;,", 
        " &apos;ncalls&apos;,", 
        " &apos;qual&apos;,", 
        " &apos;anpa&apos;,", 
        " &apos;epfu&apos;,", 
        " &apos;myev&apos;,", 
        " &apos;myth&apos;,", 
        " &apos;lano&apos;,", 
        " &apos;laci&apos;,", 
        " &apos;myca&apos;,", 
        " &apos;labl&apos;,", 
        " &apos;pahe&apos;,", 
        " &apos;mylu&apos;,", 
        " &apos;myvo&apos;,", 
        " &apos;tabr&apos;,", 
        " &apos;myyu&apos;,", 
        " &apos;coto&apos;,", 
        " &apos;eupe&apos;)"
       ]
      }
     ], 
     "prompt_number": 4
    }, 
    {
     "cell_type": "code", 
     "collapsed": false, 
     "input": [
      "table['pass'][0:10]"
     ], 
     "language": "python", 
     "outputs": [
      {
       "output_type": "pyout", 
       "prompt_number": 5, 
       "text": [
        "rec.array([&apos;SM1_0_20110714_213435_531.00#&apos;, &apos;SM1_0_20110714_230150_383.00#&apos;,", 
        "       &apos;SM1_0_20110715_014037_778.00#&apos;, &apos;SM1_0_20110715_031757_145.00#&apos;,", 
        "       &apos;SM1_0_20110715_033949_246.00#&apos;, &apos;SM1_0_20110715_041736_261.00#&apos;,", 
        "       &apos;SM1_0_20110715_042513_363.00#&apos;, &apos;SM1_0_20110715_042521_100.00#&apos;,", 
        "       &apos;SM1_0_20110715_043452_357.00#&apos;, &apos;SM1_0_20110715_044329_142.00#&apos;], ", 
        "      dtype=&apos;|S29&apos;)"
       ]
      }
     ], 
     "prompt_number": 5
    }, 
    {
     "cell_type": "code", 
     "collapsed": false, 
     "input": [
      "# Make the columns for date and detector_date", 
      "# We will correct for nightly turnover, so date = starting night", 
      "pass_col = table['pass']", 
      "", 
      "# Set up empty lists to hold columns for date and detector_date", 
      "pass_date_col = []", 
      "pass_detector_date_col = []", 
      "", 
      "# Loop through all passes in pass_col", 
      "for tpass in pass_col:", 
      "    ", 
      "    # Split this pass into words, 0th word is detector, 2nd word is date", 
      "    tpass_split = tpass.split('_')", 
      "    tdetect = tpass_split[0]", 
      "    ", 
      "    # Adjust date", 
      "    ttime = tpass_split[3]", 
      "    tdate = tpass_split[2]", 
      "    ", 
      "    if int(ttime) > 120000:", 
      "        # In this case, date is correct", 
      "        pass", 
      "        ", 
      "    else:", 
      "        # If date not correct, first pull out year, month, date, make int", 
      "        tyear = int(tdate[:4])", 
      "        tmonth = int(tdate[4:6])", 
      "        tday = int(tdate[6:])", 
      "        ", 
      "        # Fix the date by subtracting one day", 
      "        tdate_wrong_datetime = datetime.date(tyear, tmonth, tday)", 
      "        one_day = datetime.timedelta(1)", 
      "        tdate_right_datetime = tdate_wrong_datetime - one_day", 
      "        ", 
      "        # Get the string back in the right format", 
      "        tdate_right_string_dash = datetime.date.isoformat(tdate_right_datetime)", 
      "        tdate = tdate_right_string_dash.replace('-','')", 
      "    ", 
      "    # Add tdate and tdetector_tdate to appropriate cols", 
      "    pass_date_col.append(tdate)", 
      "    pass_detector_date_col.append(tdetect + '_' + tdate)"
     ], 
     "language": "python", 
     "outputs": [], 
     "prompt_number": 6
    }, 
    {
     "cell_type": "code", 
     "collapsed": false, 
     "input": [
      "# table = do something to (table), because rec_append_fields returns"
     ], 
     "language": "python", 
     "outputs": [], 
     "prompt_number": 7
    }, 
    {
     "cell_type": "code", 
     "collapsed": false, 
     "input": [
      "table.dtype.names"
     ], 
     "language": "python", 
     "outputs": [
      {
       "output_type": "pyout", 
       "prompt_number": 8, 
       "text": [
        "(&apos;path&apos;,", 
        " &apos;folder&apos;,", 
        " &apos;pass&apos;,", 
        " &apos;ncalls&apos;,", 
        " &apos;qual&apos;,", 
        " &apos;anpa&apos;,", 
        " &apos;epfu&apos;,", 
        " &apos;myev&apos;,", 
        " &apos;myth&apos;,", 
        " &apos;lano&apos;,", 
        " &apos;laci&apos;,", 
        " &apos;myca&apos;,", 
        " &apos;labl&apos;,", 
        " &apos;pahe&apos;,", 
        " &apos;mylu&apos;,", 
        " &apos;myvo&apos;,", 
        " &apos;tabr&apos;,", 
        " &apos;myyu&apos;,", 
        " &apos;coto&apos;,", 
        " &apos;eupe&apos;)"
       ]
      }
     ], 
     "prompt_number": 8
    }, 
    {
     "cell_type": "code", 
     "collapsed": false, 
     "input": [
      "table = rec_append_fields(table, 'date', pass_date_col)", 
      "table = rec_append_fields(table, 'detector_date', pass_detector_date_col)"
     ], 
     "language": "python", 
     "outputs": [], 
     "prompt_number": 10
    }, 
    {
     "cell_type": "code", 
     "collapsed": false, 
     "input": [
      "table.dtype.names"
     ], 
     "language": "python", 
     "outputs": [
      {
       "output_type": "pyout", 
       "prompt_number": 11, 
       "text": [
        "(&apos;path&apos;,", 
        " &apos;folder&apos;,", 
        " &apos;pass&apos;,", 
        " &apos;ncalls&apos;,", 
        " &apos;qual&apos;,", 
        " &apos;anpa&apos;,", 
        " &apos;epfu&apos;,", 
        " &apos;myev&apos;,", 
        " &apos;myth&apos;,", 
        " &apos;lano&apos;,", 
        " &apos;laci&apos;,", 
        " &apos;myca&apos;,", 
        " &apos;labl&apos;,", 
        " &apos;pahe&apos;,", 
        " &apos;mylu&apos;,", 
        " &apos;myvo&apos;,", 
        " &apos;tabr&apos;,", 
        " &apos;myyu&apos;,", 
        " &apos;coto&apos;,", 
        " &apos;eupe&apos;,", 
        " &apos;date&apos;,", 
        " &apos;detector_date&apos;)"
       ]
      }
     ], 
     "prompt_number": 11
    }, 
    {
     "cell_type": "code", 
     "collapsed": false, 
     "input": [
      "oneday = datetime.timedelta(1)", 
      "oneday"
     ], 
     "language": "python", 
     "outputs": [], 
     "prompt_number": "&nbsp;"
    }, 
    {
     "cell_type": "code", 
     "collapsed": false, 
     "input": [
      "d1 - oneday"
     ], 
     "language": "python", 
     "outputs": [], 
     "prompt_number": "&nbsp;"
    }, 
    {
     "cell_type": "code", 
     "collapsed": false, 
     "input": [
      "repr(d1)"
     ], 
     "language": "python", 
     "outputs": [], 
     "prompt_number": "&nbsp;"
    }, 
    {
     "cell_type": "code", 
     "collapsed": false, 
     "input": [
      "a = datetime.date.isoformat(d1)"
     ], 
     "language": "python", 
     "outputs": [], 
     "prompt_number": "&nbsp;"
    }, 
    {
     "cell_type": "code", 
     "collapsed": true, 
     "input": [
      "b = a.replace('-','')"
     ], 
     "language": "python", 
     "outputs": [], 
     "prompt_number": "&nbsp;"
    }, 
    {
     "cell_type": "code", 
     "collapsed": false, 
     "input": [
      "b"
     ], 
     "language": "python", 
     "outputs": [], 
     "prompt_number": "&nbsp;"
    }, 
    {
     "cell_type": "code", 
     "collapsed": true, 
     "input": [], 
     "language": "python", 
     "outputs": [], 
     "prompt_number": "&nbsp;"
    }
   ]
  }
 ]
}
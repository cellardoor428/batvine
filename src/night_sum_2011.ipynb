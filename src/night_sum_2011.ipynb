{
 "metadata": {
  "name": "night_sum_2011"
 }, 
 "nbformat": 2, 
 "worksheets": [
  {
   "cells": [
    {
     "cell_type": "code", 
     "collapsed": true, 
     "input": [
      "# Import everything", 
      "import numpy as np", 
      "import pandas as p", 
      "import datetime"
     ], 
     "language": "python", 
     "outputs": [], 
     "prompt_number": 3
    }, 
    {
     "cell_type": "code", 
     "collapsed": true, 
     "input": [
      "# Load the batid classified file", 
      "table = p.read_csv('../data/pass_bin_2011.csv')"
     ], 
     "language": "python", 
     "outputs": [], 
     "prompt_number": 4
    }, 
    {
     "cell_type": "code", 
     "collapsed": false, 
     "input": [
      "# Here are the column names - note that the case is the same as the csv", 
      "table.columns"
     ], 
     "language": "python", 
     "outputs": [
      {
       "output_type": "pyout", 
       "prompt_number": 5, 
       "text": [
        "Index([path, folder, pass, ncalls, qual, ANPA, EPFU, MYEV, MYTH, LANO,", 
        "       LACI, MYCA, LABL, PAHE, MYLU, MYVO, TABR, MYYU, COTO, EUPE], dtype=object)"
       ]
      }
     ], 
     "prompt_number": 5
    }, 
    {
     "cell_type": "code", 
     "collapsed": false, 
     "input": [
      "# Check out ANPA data (or any other column)", 
      "table['ANPA']"
     ], 
     "language": "python", 
     "outputs": [
      {
       "output_type": "pyout", 
       "prompt_number": 6, 
       "text": [
        "0     1", 
        "1     0", 
        "2     0", 
        "3     0", 
        "4     0", 
        "5     0", 
        "6     0", 
        "7     0", 
        "8     0", 
        "9     0", 
        "10    0", 
        "11    0", 
        "12    1", 
        "13    1", 
        "14    1", 
        "...", 
        "11825    0", 
        "11826    0", 
        "11827    0", 
        "11828    0", 
        "11829    0", 
        "11830    0", 
        "11831    0", 
        "11832    0", 
        "11833    0", 
        "11834    0", 
        "11835    0", 
        "11836    0", 
        "11837    0", 
        "11838    0", 
        "11839    0", 
        "Name: ANPA, Length: 11840"
       ]
      }
     ], 
     "prompt_number": 6
    }, 
    {
     "cell_type": "code", 
     "collapsed": false, 
     "input": [
      "# Make the columns for date and detector_date", 
      "# We will correct for nightly turnover, so date = starting night", 
      "", 
      "pass_col = table['pass']", 
      "", 
      "# Set up empty lists to hold columns for date and detector_date", 
      "date_col = []", 
      "detector_date_col = []", 
      "", 
      "# Loop through all passes in pass_col", 
      "for tpass in pass_col.values:", 
      "", 
      "    # Split this pass into words, 0th word is detector, 2nd word is date", 
      "    tpass_split = tpass.split('_')", 
      "    tdetect = tpass_split[0]", 
      "    ", 
      "    # Adjust date", 
      "    ttime = tpass_split[3]  # Get time as a string", 
      "    tdate = tpass_split[2]  # Get date as a string", 
      "    ", 
      "    if int(ttime) < 120000:  # If it's before noon, correct tdate", 
      "        ", 
      "        # Pull out year, month, date from tdate and make all int's", 
      "        tyear = int(tdate[:4])", 
      "        tmonth = int(tdate[4:6])", 
      "        tday = int(tdate[6:])", 
      "        ", 
      "        # Fix the date by subtracting one day", 
      "        tdate_wrong_datetime = datetime.date(tyear, tmonth, tday)", 
      "        one_day = datetime.timedelta(1)", 
      "        tdate_right_datetime = tdate_wrong_datetime - one_day", 
      "        ", 
      "        # Get the string back in the right format", 
      "        tdate_right_string_dash = datetime.date.isoformat(tdate_right_datetime)", 
      "        tdate = tdate_right_string_dash.replace('-','')", 
      "    ", 
      "    # Add tdate and tdetector_tdate to appropriate cols", 
      "    date_col.append(tdate)", 
      "    detector_date_col.append(tdetect + '_' + tdate)", 
      "", 
      "print pass_col[0:20]  # Do a quick visual check", 
      "print date_col[0:20]"
     ], 
     "language": "python", 
     "outputs": [
      {
       "output_type": "stream", 
       "stream": "stdout", 
       "text": [
        "0     SM1_0_20110714_213435_531.00#", 
        "1     SM1_0_20110714_230150_383.00#", 
        "2     SM1_0_20110715_014037_778.00#", 
        "3     SM1_0_20110715_031757_145.00#", 
        "4     SM1_0_20110715_033949_246.00#", 
        "5     SM1_0_20110715_041736_261.00#", 
        "6     SM1_0_20110715_042513_363.00#", 
        "7     SM1_0_20110715_042521_100.00#", 
        "8     SM1_0_20110715_043452_357.00#", 
        "9     SM1_0_20110715_044329_142.00#", 
        "10    SM1_0_20110715_051543_476.00#", 
        "11    SM1_0_20110715_051551_400.00#", 
        "12    SM1_0_20110715_212424_694.00#", 
        "13    SM1_0_20110715_214228_761.00#", 
        "14    SM1_0_20110715_215304_460.00#", 
        "15    SM1_0_20110715_220140_332.00#", 
        "16    SM1_0_20110715_223704_746.00#", 
        "17    SM1_0_20110715_225242_904.00#", 
        "18    SM1_0_20110716_001756_228.00#", 
        "19    SM1_0_20110716_003614_374.00#", 
        "Name: pass", 
        "['20110714', '20110714', '20110714', '20110714', '20110714', '20110714', '20110714', '20110714', '20110714', '20110714', '20110714', '20110714', '20110715', '20110715', '20110715', '20110715', '20110715', '20110715', '20110715', '20110715']"
       ]
      }
     ], 
     "prompt_number": 7
    }, 
    {
     "cell_type": "code", 
     "collapsed": true, 
     "input": [
      "# Adding a column to a data frame is easy", 
      "table.insert(3, 'date', date_col)", 
      "table.insert(4, 'detector_date', detector_date_col)"
     ], 
     "language": "python", 
     "outputs": [], 
     "prompt_number": 8
    }, 
    {
     "cell_type": "code", 
     "collapsed": false, 
     "input": [
      "table.columns  # Check that they're added"
     ], 
     "language": "python", 
     "outputs": [
      {
       "output_type": "pyout", 
       "prompt_number": 9, 
       "text": [
        "Index([path, folder, pass, date, detector_date, ncalls, qual, ANPA, EPFU,", 
        "       MYEV, MYTH, LANO, LACI, MYCA, LABL, PAHE, MYLU, MYVO, TABR, MYYU,", 
        "       COTO, EUPE], dtype=object)"
       ]
      }
     ], 
     "prompt_number": 9
    }, 
    {
     "cell_type": "code", 
     "collapsed": true, 
     "input": [
      "# Save csv with these extra cols to cross check visually", 
      "table.to_csv('../results/pass_bin_detector_date.csv')"
     ], 
     "language": "python", 
     "outputs": [], 
     "prompt_number": 10
    }, 
    {
     "cell_type": "code", 
     "collapsed": false, 
     "input": [
      "# Group rows according to the column detector_date", 
      "# This makes a grouped data frame object that isn't easy to visualize", 
      "# But then we can aggregate with the sum function, and see the result", 
      "# This will throw away all non-numeric colums (they can't be added)", 
      "# See http://pandas.pydata.org/pandas-docs/dev/groupby.html", 
      "", 
      "gtable = table.groupby('detector_date').sum().reset_index()", 
      "print gtable.columns", 
      "", 
      "# Add a column for total number of passes, while we're here", 
      "# Note that this requires 3 columns be present before the bat call columns", 
      "tota_col = []", 
      "for i in range(len(gtable['detector_date'])):", 
      "    tota_col.append(np.sum(gtable.values[i][3:]))  # Total trial and error", 
      "", 
      "gtable['TOTA'] = tota_col", 
      "    ", 
      "# Save result", 
      "gtable.to_csv('../results/pass_bin_nightly_sums.csv', index=False)", 
      "", 
      "# Check the csv for accuracy - looks good!"
     ], 
     "language": "python", 
     "outputs": [
      {
       "output_type": "stream", 
       "stream": "stdout", 
       "text": [
        "array([detector_date, ncalls, qual, ANPA, EPFU, MYEV, MYTH, LANO, LACI,", 
        "       MYCA, LABL, PAHE, MYLU, MYVO, TABR, MYYU, COTO, EUPE], dtype=object)"
       ]
      }
     ], 
     "prompt_number": 11
    }, 
    {
     "cell_type": "code", 
     "collapsed": true, 
     "input": [
      "# Now, we know that the detector_date is our 'atomic unit' of data (for now)", 
      "# So each row in ntable is a data point, and we need to add some variables", 
      "# that we can use to analyze what factors drive changes in bat abundance.", 
      "# Let's start by adding site, using a join with the key detector_date", 
      "# (This is the table that Rochelle is creating now, but we'll use a sample.)", 
      "# Then, we can use site as a key and use join to get some other variables.", 
      "# (This is the second table that we'll need.)", 
      "# For now, we can just use some sample tables in the data folder.", 
      "", 
      "# Note that the sample tables are incomplete, and values they don't contain", 
      "# will have NA.", 
      "", 
      "# Load the two sample tables", 
      "dd_site_table = p.read_csv('../data/detector_date_to_site_samp.csv')", 
      "site_var_table = p.read_csv('../data/site_to_variables_samp.csv')", 
      "", 
      "# Take gtable and join first dd_site_table on the key detector_date", 
      "# ... then site_var_table on the key site", 
      "join1 = p.merge(gtable, dd_site_table, on='detector_date', how='left')", 
      "join2 = p.merge(join1, site_var_table, on='site', how='left')", 
      "", 
      "# Save the doubly-joined table", 
      "join2.to_csv('../results/pass_bin_nightly_sums_full.csv')", 
      "", 
      "# Joins are a bit conceptually difficult - have a look at this page", 
      "# http://pandas.pydata.org/pandas-docs/dev/merging.html#database-style-dataframe-joining-merging", 
      "# But still might require some explanation first - we can discuss", 
      "# But suffice to say, it works!", 
      "# If you can generate full tables like the two _samp tables in data, we'll be in business."
     ], 
     "language": "python", 
     "outputs": [], 
     "prompt_number": 12
    }, 
    {
     "cell_type": "code", 
     "collapsed": true, 
     "input": [
      "# Adding site, using a join with the key detector_date", 
      "", 
      "# Loading the site & detector_date to site tables", 
      "dd_site_table = p.read_csv('../data/detector_date_site_2011.csv')", 
      "site_var_table = p.read_csv('../data/site_to_variables.csv')"
     ], 
     "language": "python", 
     "outputs": [], 
     "prompt_number": 13
    }, 
    {
     "cell_type": "code", 
     "collapsed": false, 
     "input": [
      "# Double check the columns", 
      "dd_site_table.columns", 
      "site_var_table.columns[:20]"
     ], 
     "language": "python", 
     "outputs": [
      {
       "output_type": "pyout", 
       "prompt_number": 16, 
       "text": [
        "Index([site, extra, pair, lat, long, Vine05km, Vine10km, Vine15km,", 
        "       Vine20km, Vine25km, Vine30km, Vine35km, Vine40km, Vine45km,", 
        "       Vine50km, Vine55km, Vine60km, Hab05km, Hab10km, Hab15km], dtype=object)"
       ]
      }
     ], 
     "prompt_number": 16
    }, 
    {
     "cell_type": "code", 
     "collapsed": false, 
     "input": [
      "dd_site_table.columns # why didn't it print when I executed the above command?"
     ], 
     "language": "python", 
     "outputs": [
      {
       "output_type": "pyout", 
       "prompt_number": 17, 
       "text": [
        "Index([detector_date, site], dtype=object)"
       ]
      }
     ], 
     "prompt_number": 17
    }, 
    {
     "cell_type": "code", 
     "collapsed": true, 
     "input": [
      "# Take gtable and join first dd_site_table on the key detector_date", 
      "#...then site_var_table on the key site", 
      "join1 = p.merge(gtable, dd_site_table, on='detector_date', how='left')", 
      "join2 = p.merge(join1, site_var_table, on='site', how='left')"
     ], 
     "language": "python", 
     "outputs": [], 
     "prompt_number": 18
    }, 
    {
     "cell_type": "code", 
     "collapsed": true, 
     "input": [
      "# Save the double-joined table", 
      "join2.to_csv('../results/pass_bin_2011_nightly_sums_full.csv')"
     ], 
     "language": "python", 
     "outputs": [], 
     "prompt_number": 19
    }, 
    {
     "cell_type": "code", 
     "collapsed": true, 
     "input": [], 
     "language": "python", 
     "outputs": []
    }
   ]
  }
 ]
}
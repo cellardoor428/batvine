{
 "metadata": {
  "name": "temperature_data"
 },
 "nbformat": 3,
 "nbformat_minor": 0,
 "worksheets": [
  {
   "cells": [
    {
     "cell_type": "code",
     "collapsed": true,
     "input": [
      "# import everything\n",
      "import pandas as p\n",
      "import numpy as np\n",
      "import datetime"
     ],
     "language": "python",
     "metadata": {},
     "outputs": [],
     "prompt_number": 30
    },
    {
     "cell_type": "code",
     "collapsed": true,
     "input": [
      "# Import the csv\n",
      "table = p.read_table('../data/sensors_all.txt', names = ('detector_date', 'time', 'temp', 'external'))"
     ],
     "language": "python",
     "metadata": {},
     "outputs": [],
     "prompt_number": 31
    },
    {
     "cell_type": "code",
     "collapsed": false,
     "input": [
      "# Look at the attributes\n",
      "table.columns"
     ],
     "language": "python",
     "metadata": {},
     "outputs": [
      {
       "output_type": "pyout",
       "prompt_number": 32,
       "text": [
        "Index([detector_date, time, temp, external], dtype=object)"
       ]
      }
     ],
     "prompt_number": 32
    },
    {
     "cell_type": "code",
     "collapsed": true,
     "input": [
      "# Define detector_date column, and setup emtpy lists to hold column for date & detector\n",
      "detector_date = table['detector_date']\n",
      "date_col = []\n",
      "detector_col = []\n",
      "\n",
      "# Break detector_date column into words, the 0th word being detector, the 5th word being date\n",
      "detector_col = detector_date.str.split(' ').str.get(0)\n",
      "date_col = detector_date.str.split(' ').str.get(5)"
     ],
     "language": "python",
     "metadata": {},
     "outputs": [],
     "prompt_number": 33
    },
    {
     "cell_type": "code",
     "collapsed": true,
     "input": [
      "# define detector, date, and time columns\n",
      "date = date_col\n",
      "time = table['time']\n",
      "date_time_col = []\n",
      "detector = detector_col\n",
      "#right_date_time_col = [] - Moved to next cell\n",
      "\n",
      "\n",
      "# Append time to date_col\n",
      "for i in range(len(date)):\n",
      "    date_time_col.append(detector[i] + ' ' + date[i] + ' ' + time[i])"
     ],
     "language": "python",
     "metadata": {},
     "outputs": [],
     "prompt_number": 34
    },
    {
     "cell_type": "code",
     "collapsed": false,
     "input": [
      "date_time_col[0:5]"
     ],
     "language": "python",
     "metadata": {},
     "outputs": [
      {
       "output_type": "pyout",
       "prompt_number": 35,
       "text": [
        "['SM1 2011-Jul-14 20:34:01',\n",
        " 'SM1 2011-Jul-14 20:39:01',\n",
        " 'SM1 2011-Jul-14 20:44:01',\n",
        " 'SM1 2011-Jul-14 20:49:01',\n",
        " 'SM1 2011-Jul-14 20:54:01']"
       ]
      }
     ],
     "prompt_number": 35
    },
    {
     "cell_type": "code",
     "collapsed": true,
     "input": [
      "# Reset this every time right before running the loop\n",
      "right_detector_date_time_col = []\n",
      "right_date_col = []\n",
      "\n",
      "# Loop through all date_time_col and correct the format\n",
      "for dt in date_time_col:\n",
      "    \n",
      "    # Adjust date \n",
      "    ttime = dt.split(' ')[2] # get time as a string\n",
      "    tdate = dt.split(' ')[1] # get date as a string\n",
      "    tdetector = dt.split(' ')[0]\n",
      "    \n",
      "    # Split date into words\n",
      "    tdate_split = tdate.split('-')\n",
      "    tyear = tdate_split[0]\n",
      "    tmonth = tdate_split[1]\n",
      "    tday = tdate_split[2]\n",
      "    \n",
      "    # Remove colons from time\n",
      "    tttime = ttime.replace(':','')\n",
      "    \n",
      "    # Convert month from a word to a number\n",
      "    if tmonth == 'Jun':\n",
      "        tmonth = ('06')\n",
      "    if tmonth == 'Jul':\n",
      "        tmonth = ('07')\n",
      "    if tmonth == 'Aug':\n",
      "        tmonth = ('08')\n",
      "    \n",
      "    #Loop through all dt in date_time_col correct for nightly turnover, so date = starting date \n",
      "    \n",
      "    if int(tttime) < 120000: # if it is before noon, correct the date\n",
      "        \n",
      "        # Make year, month, and date all integers\n",
      "        ttyear = int(tyear)\n",
      "        ttmonth = int(tmonth)\n",
      "        ttday = int(tday)\n",
      "        \n",
      "        # Fix the date by subtracting one day\n",
      "        tdate_wrong_datetime = datetime.date(ttyear, ttmonth, ttday)\n",
      "        one_day = datetime.timedelta(1)\n",
      "        tdate_right_datetime = tdate_wrong_datetime - one_day\n",
      "        \n",
      "        # Get the string back in the right format\n",
      "        tdate_right_string_dash = datetime.date.isoformat(tdate_right_datetime)\n",
      "        tdate = tdate_right_string_dash.replace('-','')\n",
      "        \n",
      "    # JK ADDITION\n",
      "    else:  # if after noon, just get the date in the right format\n",
      "        tdate = tyear + tmonth + tday\n",
      "        \n",
      "    #add tdate to appropriate cols\n",
      "    right_detector_date_time_col.append(tdetector + '_' + tdate + '_' + tttime)\n",
      "    right_date_col.append(tdetector + '_' + tdate)"
     ],
     "language": "python",
     "metadata": {},
     "outputs": [],
     "prompt_number": 36
    },
    {
     "cell_type": "code",
     "collapsed": false,
     "input": [
      "right_detector_date_time_col[:10]"
     ],
     "language": "python",
     "metadata": {},
     "outputs": [
      {
       "output_type": "pyout",
       "prompt_number": 37,
       "text": [
        "['SM1_20110714_203401',\n",
        " 'SM1_20110714_203901',\n",
        " 'SM1_20110714_204401',\n",
        " 'SM1_20110714_204901',\n",
        " 'SM1_20110714_205401',\n",
        " 'SM1_20110714_205901',\n",
        " 'SM1_20110714_210401',\n",
        " 'SM1_20110714_210901',\n",
        " 'SM1_20110714_211401',\n",
        " 'SM1_20110714_211901']"
       ]
      }
     ],
     "prompt_number": 37
    },
    {
     "cell_type": "code",
     "collapsed": false,
     "input": [
      "# I think your problem was running two cells above (the big for loop) over\n",
      "# and over again - each time you ran it, it kept adding 379 rows to \n",
      "# right_date_time_col! To fix this, you can either just Run All cells each\n",
      "# time, or better, I added a line at the top of that cell that resets this\n",
      "# list to empty each time you run the cell.\n",
      "print len(date_time_col)\n",
      "print len(right_detector_date_time_col)"
     ],
     "language": "python",
     "metadata": {},
     "outputs": [
      {
       "output_type": "stream",
       "stream": "stdout",
       "text": [
        "65280\n",
        "65280\n"
       ]
      }
     ],
     "prompt_number": 38
    },
    {
     "cell_type": "code",
     "collapsed": true,
     "input": [
      "# Add right_date_time_column to table\n",
      "table.insert(0,'detector_date_time', right_detector_date_time_col)"
     ],
     "language": "python",
     "metadata": {},
     "outputs": [],
     "prompt_number": 39
    },
    {
     "cell_type": "code",
     "collapsed": false,
     "input": [
      "table.columns # check that they're added"
     ],
     "language": "python",
     "metadata": {},
     "outputs": [
      {
       "output_type": "pyout",
       "prompt_number": 40,
       "text": [
        "Index([detector_date_time, detector_date, time, temp, external], dtype=object)"
       ]
      }
     ],
     "prompt_number": 40
    },
    {
     "cell_type": "code",
     "collapsed": true,
     "input": [
      "# Save csv with these extra cols to cross check visually\n",
      "table.to_csv('../results/temp_right_date_time.csv', index=False)\n",
      "\n",
      "# Check table visually, looks good! "
     ],
     "language": "python",
     "metadata": {},
     "outputs": [],
     "prompt_number": 41
    },
    {
     "cell_type": "code",
     "collapsed": false,
     "input": [
      "# Now insert the right date as a column\n",
      "table.insert(1,'rdate', right_date_col)\n",
      "\n",
      "# And remove the detector_date column with the unadjusted date\n",
      "table.drop(['detector_date'], axis=1)"
     ],
     "language": "python",
     "metadata": {},
     "outputs": [
      {
       "output_type": "pyout",
       "prompt_number": 42,
       "text": [
        "<class 'pandas.core.frame.DataFrame'>\n",
        "Int64Index: 65280 entries, 0 to 65279\n",
        "Data columns:\n",
        "detector_date_time    65280  non-null values\n",
        "rdate                 65280  non-null values\n",
        "time                  65280  non-null values\n",
        "temp                  65280  non-null values\n",
        "external              65280  non-null values\n",
        "dtypes: float64(2), object(3)"
       ]
      }
     ],
     "prompt_number": 42
    },
    {
     "cell_type": "code",
     "collapsed": false,
     "input": [
      "print table['rdate']"
     ],
     "language": "python",
     "metadata": {},
     "outputs": [
      {
       "output_type": "stream",
       "stream": "stdout",
       "text": [
        "0     SM1_20110714\n",
        "1     SM1_20110714\n",
        "2     SM1_20110714\n",
        "3     SM1_20110714\n",
        "4     SM1_20110714\n",
        "5     SM1_20110714\n",
        "6     SM1_20110714\n",
        "7     SM1_20110714\n",
        "8     SM1_20110714\n",
        "9     SM1_20110714\n",
        "10    SM1_20110714\n",
        "11    SM1_20110714\n",
        "12    SM1_20110714\n",
        "13    SM1_20110714\n",
        "14    SM1_20110714\n",
        "...\n",
        "65265    SM6_20120720\n",
        "65266    SM6_20120720\n",
        "65267    SM6_20120720\n",
        "65268    SM6_20120720\n",
        "65269    SM6_20120720\n",
        "65270    SM6_20120720\n",
        "65271    SM6_20120720\n",
        "65272    SM6_20120720\n",
        "65273    SM6_20120720\n",
        "65274    SM6_20120720\n",
        "65275    SM6_20120720\n",
        "65276    SM6_20120720\n",
        "65277    SM6_20120720\n",
        "65278    SM6_20120720\n",
        "65279    SM6_20120720\n",
        "Name: rdate, Length: 65280\n"
       ]
      }
     ],
     "prompt_number": 43
    },
    {
     "cell_type": "code",
     "collapsed": false,
     "input": [
      "# separate rdate by unique values\n",
      "unique_rdate = np.unique(table['rdate'])\n",
      "\n",
      "print table['temp'][0]\n",
      "print np.min(table['temp'][0:10])\n",
      "print np.sum(unique_rdate=='SM2_20110722')"
     ],
     "language": "python",
     "metadata": {},
     "outputs": [
      {
       "output_type": "stream",
       "stream": "stdout",
       "text": [
        "19.6\n",
        "19.6\n",
        "1\n"
       ]
      }
     ],
     "prompt_number": 44
    },
    {
     "cell_type": "code",
     "collapsed": false,
     "input": [
      "print table[table['rdate'] == 'SM2_20110721']\n",
      "print table['rdate'][8254]"
     ],
     "language": "python",
     "metadata": {},
     "outputs": [
      {
       "output_type": "stream",
       "stream": "stdout",
       "text": [
        "<class 'pandas.core.frame.DataFrame'>\n",
        "Int64Index: 128 entries, 5712 to 5839\n",
        "Data columns:\n",
        "detector_date_time    128  non-null values\n",
        "rdate                 128  non-null values\n",
        "detector_date         128  non-null values\n",
        "time                  128  non-null values\n",
        "temp                  128  non-null values\n",
        "external              128  non-null values\n",
        "dtypes: float64(2), object(4)\n",
        "SM2_20110724\n"
       ]
      }
     ],
     "prompt_number": 45
    },
    {
     "cell_type": "code",
     "collapsed": false,
     "input": [
      "# Setup empty lists to hold temperature variables\n",
      "maxt = []\n",
      "mint = []\n",
      "sunsett = []\n",
      "meant = []\n",
      "\n",
      "# Loop through all unique values in rdate, and pull out min, max, mean, and sunset temp.\n",
      "for i in unique_rdate:\n",
      "    mini_table = table[table['rdate'] == i]\n",
      "    if len(mini_table['temp']) > 100:\n",
      "        maxt.append(np.max(mini_table['temp']))\n",
      "        mint.append(np.min(mini_table['temp']))\n",
      "        sunsett.append(float(mini_table['temp'][5:6])) \n",
      "        meant.append(np.mean(mini_table['temp']))\n",
      "   # else:\n",
      "       # print len(mini_table['temp'])\n",
      "       # print i\n",
      "    \n",
      "    # Looked for the average length of temperature entries per night\n",
      "    # Typed print len(mini_table['temp']\n",
      "    # Saw that all whole nighte were >100 entries long, however I noticed that these\n",
      "    # six nights were twice as long as all the rest, is this a glitch?\n",
      "    # Will remove \"dead nights\" by removing nights with lengths less than 100.\n",
      "    \n",
      "    # if len(mini_table['temp']) == 256: \n",
      "        # print \"too long\", i, len(mini_table['temp'])\n",
      "        # fixed this error manually in the text files\n",
      "    \n",
      "    # Look for temperature outliers, if sunset temperature > 32 degrees celsius, print it out and double check with weather station temperature\n",
      "    if (float(mini_table['temp'][5:6])) > 32:\n",
      "        print 'too hot', i, float(mini_table['temp'][5:6])\n",
      "        "
     ],
     "language": "python",
     "metadata": {},
     "outputs": [
      {
       "output_type": "stream",
       "stream": "stdout",
       "text": [
        "too hot SM1_20110822 34.0\n",
        "too hot"
       ]
      },
      {
       "output_type": "stream",
       "stream": "stdout",
       "text": [
        " SM1_20120616 35.5\n",
        "too hot"
       ]
      },
      {
       "output_type": "stream",
       "stream": "stdout",
       "text": [
        " SM1_20120711 32.5\n",
        "too hot"
       ]
      },
      {
       "output_type": "stream",
       "stream": "stdout",
       "text": [
        " SM1_20120720 33.3\n",
        "too hot"
       ]
      },
      {
       "output_type": "stream",
       "stream": "stdout",
       "text": [
        " SM2_20110720 32.2\n",
        "too hot"
       ]
      },
      {
       "output_type": "stream",
       "stream": "stdout",
       "text": [
        " SM2_20110823 35.1\n",
        "too hot SM2_20110824 32.2\n",
        "too hot SM2_20110825 32.7\n",
        "too hot"
       ]
      },
      {
       "output_type": "stream",
       "stream": "stdout",
       "text": [
        " SM2_20110827 33.6\n",
        "too hot SM2_20110828 33.1\n",
        "too hot SM2_20110829 33.1\n",
        "too hot"
       ]
      },
      {
       "output_type": "stream",
       "stream": "stdout",
       "text": [
        " SM2_20120612 33.5\n",
        "too hot"
       ]
      },
      {
       "output_type": "stream",
       "stream": "stdout",
       "text": [
        " SM2_20120616 36.5\n",
        "too hot"
       ]
      },
      {
       "output_type": "stream",
       "stream": "stdout",
       "text": [
        " SM2_20120710 33.3\n",
        "too hot SM2_20120711 36.1\n",
        "too hot"
       ]
      },
      {
       "output_type": "stream",
       "stream": "stdout",
       "text": [
        " SM3_20110823 33.5\n",
        "too hot"
       ]
      },
      {
       "output_type": "stream",
       "stream": "stdout",
       "text": [
        " SM3_20110827 36.1\n",
        "too hot SM3_20110828 34.1\n",
        "too hot SM3_20110829 33.6\n",
        "too hot"
       ]
      },
      {
       "output_type": "stream",
       "stream": "stdout",
       "text": [
        " SM3_20120616 34.8\n",
        "too hot"
       ]
      },
      {
       "output_type": "stream",
       "stream": "stdout",
       "text": [
        " SM3_20120711 34.6\n",
        "too hot"
       ]
      },
      {
       "output_type": "stream",
       "stream": "stdout",
       "text": [
        " SM3_20120720 34.6\n",
        "too hot"
       ]
      },
      {
       "output_type": "stream",
       "stream": "stdout",
       "text": [
        " SM5_20120612 32.2\n",
        "too hot"
       ]
      },
      {
       "output_type": "stream",
       "stream": "stdout",
       "text": [
        " SM5_20120616 34.5\n",
        "too hot"
       ]
      },
      {
       "output_type": "stream",
       "stream": "stdout",
       "text": [
        " SM5_20120710 32.2\n",
        "too hot SM5_20120711 33.3\n",
        "too hot"
       ]
      },
      {
       "output_type": "stream",
       "stream": "stdout",
       "text": [
        " SM5_20120720 34.0\n",
        "too hot"
       ]
      },
      {
       "output_type": "stream",
       "stream": "stdout",
       "text": [
        " SM6_20120616 34.1\n",
        "too hot"
       ]
      },
      {
       "output_type": "stream",
       "stream": "stdout",
       "text": [
        " SM6_20120720 33.0\n"
       ]
      }
     ],
     "prompt_number": 46
    },
    {
     "cell_type": "code",
     "collapsed": false,
     "input": [
      "# Remove dead days from unique_rdate column\n",
      "dead_list = ['SM1_20110812', 'SM1_20110819', 'SM1_20110826', 'SM4_20110812', 'SM4_20110826', 'SM6_20110826']\n",
      "data = unique_rdate.values\n",
      "new_data = []\n",
      "for i in data: \n",
      "    if i not in dead_list:\n",
      "        new_data.append(i)\n",
      "print len(new_data)"
     ],
     "language": "python",
     "metadata": {},
     "outputs": [
      {
       "output_type": "stream",
       "stream": "stdout",
       "text": [
        "504\n"
       ]
      }
     ],
     "prompt_number": 47
    },
    {
     "cell_type": "code",
     "collapsed": true,
     "input": [
      "# Make Dataframe for detector_date, then append temperature data (min, max, mean, sunset temp)\n",
      "temp_table = p.DataFrame(data=new_data, index=None, columns=['detector_date'])\n",
      "temp_table.insert(1, 'max_temp', maxt)\n",
      "temp_table.insert(2, 'min_temp', mint)\n",
      "temp_table.insert(3, 'temp_sunset', sunsett)\n",
      "temp_table.insert(4, 'mean_temp', meant)"
     ],
     "language": "python",
     "metadata": {},
     "outputs": [],
     "prompt_number": 48
    },
    {
     "cell_type": "code",
     "collapsed": false,
     "input": [
      "# Check that it worked\n",
      "print len(temp_table)\n",
      "print temp_table.columns"
     ],
     "language": "python",
     "metadata": {},
     "outputs": [
      {
       "output_type": "stream",
       "stream": "stdout",
       "text": [
        "504\n",
        "array([detector_date, max_temp, min_temp, temp_sunset, mean_temp], dtype=object)\n"
       ]
      }
     ],
     "prompt_number": 49
    },
    {
     "cell_type": "code",
     "collapsed": true,
     "input": [
      "# Save temperature data (mean, max, min, sunset) to csv, look over manually- looks good.\n",
      "temp_table.to_csv('../results/final_temp_data.csv', index=False)"
     ],
     "language": "python",
     "metadata": {},
     "outputs": [],
     "prompt_number": 50
    },
    {
     "cell_type": "code",
     "collapsed": true,
     "input": [
      "# Import nightly sum data \n",
      "dd_site_sum_full_table = p.read_csv('../results/pass_bin_2011_nightly_sums_full.csv')"
     ],
     "language": "python",
     "metadata": {},
     "outputs": [],
     "prompt_number": 51
    },
    {
     "cell_type": "code",
     "collapsed": false,
     "input": [
      "print dd_site_sum_full_table.columns"
     ],
     "language": "python",
     "metadata": {},
     "outputs": [
      {
       "output_type": "stream",
       "stream": "stdout",
       "text": [
        "array([Unnamed: 0, detector_date, ncalls, qual, date, ANPA, EPFU, MYEV,\n",
        "       MYTH, LANO, LACI, MYCA, LABL, PAHE, MYLU, MYVO, TABR, MYYU, COTO,\n",
        "       EUPE, TOTA, site, extra, pair, lat, long, Vine05km, Vine10km,\n",
        "       Vine15km, Vine20km, Vine25km, Vine30km, Vine35km, Vine40km,\n",
        "       Vine45km, Vine50km, Vine55km, Vine60km, Hab05km, Hab10km, Hab15km,\n",
        "       Hab20km, Hab25km, Hab30km, Hab35km, Hab40km, Hab45km, Hab50km,\n",
        "       Hab55km, Hab60km, Hab01_05km, Hab02_05km, Hab03_05km, Hab04_05km,\n",
        "       Hab05_05km, Hab06_05km, Hab07_05km, Hab08_05km, Hab09_05km,\n",
        "       Hab10_05km, Hab11_05km, Hab12_05km, Hab13_05km, Hab14_05km,\n",
        "       Hab15_05km, Hab16_05km, Hab17_05km, Hab18_05km, Hab19_05km,\n",
        "       Hab20_05km, Hab21_05km, Hab22_05km, Hab23_05km, Hab24_05km,\n",
        "       Hab25_05km, Hab26_05km, Hab27_05km, Hab28_05km, Hab29_05km,\n",
        "       Hab30_05km, Hab31_05km, Hab32_05km, Hab33_05km, Hab34_05km,\n",
        "       Hab35_05km, Hab36_05km, Hab37_05km, Hab38_05km, Hab39_05km,\n",
        "       Hab40_05km, Hab41_05km, Hab42_05km, Hab43_05km, Hab44_05km,\n",
        "       Hab45_05km, Hab46_05km, Hab47_05km, Hab48_05km, Hab49_05km,\n",
        "       Hab50_05km, Hab51_05km, Hab52_05km, Hab53_05km, Hab54_05km,\n",
        "       Hab55_05km, Hab56_05km, Hab57_05km, Hab58_05km, Hab59_05km,\n",
        "       Hab60_05km, Hab01_10km, Hab02_10km, Hab03_10km, Hab04_10km,\n",
        "       Hab05_10km, Hab06_10km, Hab07_10km, Hab08_10km, Hab09_10km,\n",
        "       Hab10_10km, Hab11_10km, Hab12_10km, Hab13_10km, Hab14_10km,\n",
        "       Hab15_10km, Hab16_10km, Hab17_10km, Hab18_10km, Hab19_10km,\n",
        "       Hab20_10km, Hab21_10km, Hab22_10km, Hab23_10km, Hab24_10km,\n",
        "       Hab25_10km, Hab26_10km, Hab27_10km, Hab28_10km, Hab29_10km,\n",
        "       Hab30_10km, Hab31_10km, Hab32_10km, Hab33_10km, Hab34_10km,\n",
        "       Hab35_10km, Hab36_10km, Hab37_10km, Hab38_10km, Hab39_10km,\n",
        "       Hab40_10km, Hab41_10km, Hab42_10km, Hab43_10km, Hab44_10km,\n",
        "       Hab45_10km, Hab46_10km, Hab47_10km, Hab48_10km, Hab49_10km,\n",
        "       Hab50_10km, Hab51_10km, Hab52_10km, Hab53_10km, Hab54_10km,\n",
        "       Hab55_10km, Hab56_10km, Hab57_10km, Hab58_10km, Hab59_10km,\n",
        "       Hab60_10km, Hab01_15km, Hab02_15km, Hab03_15km, Hab04_15km,\n",
        "       Hab05_15km, Hab06_15km, Hab07_15km, Hab08_15km, Hab09_15km,\n",
        "       Hab10_15km, Hab11_15km, Hab12_15km, Hab13_15km, Hab14_15km,\n",
        "       Hab15_15km, Hab16_15km, Hab17_15km, Hab18_15km, Hab19_15km,\n",
        "       Hab20_15km, Hab21_15km, Hab22_15km, Hab23_15km, Hab24_15km,\n",
        "       Hab25_15km, Hab26_15km, Hab27_15km, Hab28_15km, Hab29_15km,\n",
        "       Hab30_15km, Hab31_15km, Hab32_15km, Hab33_15km, Hab34_15km,\n",
        "       Hab35_15km, Hab36_15km, Hab37_15km, Hab38_15km, Hab39_15km,\n",
        "       Hab40_15km, Hab41_15km, Hab42_15km, Hab43_15km, Hab44_15km,\n",
        "       Hab45_15km, Hab46_15km, Hab47_15km, Hab48_15km, Hab49_15km,\n",
        "       Hab50_15km, Hab51_15km, Hab52_15km, Hab53_15km, Hab54_15km,\n",
        "       Hab55_15km, Hab56_15km, Hab57_15km, Hab58_15km, Hab59_15km,\n",
        "       Hab60_15km, Hab01_20km, Hab02_20km, Hab03_20km, Hab04_20km,\n",
        "       Hab05_20km, Hab06_20km, Hab07_20km, Hab08_20km, Hab09_20km,\n",
        "       Hab10_20km, Hab11_20km, Hab12_20km, Hab13_20km, Hab14_20km,\n",
        "       Hab15_20km, Hab16_20km, Hab17_20km, Hab18_20km, Hab19_20km,\n",
        "       Hab20_20km, Hab21_20km, Hab22_20km, Hab23_20km, Hab24_20km,\n",
        "       Hab25_20km, Hab26_20km, Hab27_20km, Hab28_20km, Hab29_20km,\n",
        "       Hab30_20km, Hab31_20km, Hab32_20km, Hab33_20km, Hab34_20km,\n",
        "       Hab35_20km, Hab36_20km, Hab37_20km, Hab38_20km, Hab39_20km,\n",
        "       Hab40_20km, Hab41_20km, Hab42_20km, Hab43_20km, Hab44_20km,\n",
        "       Hab45_20km, Hab46_20km, Hab47_20km, Hab48_20km, Hab49_20km,\n",
        "       Hab50_20km, Hab51_20km, Hab52_20km, Hab53_20km, Hab54_20km,\n",
        "       Hab55_20km, Hab56_20km, Hab57_20km, Hab58_20km, Hab59_20km,\n",
        "       Hab60_20km, Hab01_25km, Hab02_25km, Hab03_25km, Hab04_25km,\n",
        "       Hab05_25km, Hab06_25km, Hab07_25km, Hab08_25km, Hab09_25km,\n",
        "       Hab10_25km, Hab11_25km, Hab12_25km, Hab13_25km, Hab14_25km,\n",
        "       Hab15_25km, Hab16_25km, Hab17_25km, Hab18_25km, Hab19_25km,\n",
        "       Hab20_25km, Hab21_25km, Hab22_25km, Hab23_25km, Hab24_25km,\n",
        "       Hab25_25km, Hab26_25km, Hab27_25km, Hab28_25km, Hab29_25km,\n",
        "       Hab30_25km, Hab31_25km, Hab32_25km, Hab33_25km, Hab34_25km,\n",
        "       Hab35_25km, Hab36_25km, Hab37_25km, Hab38_25km, Hab39_25km,\n",
        "       Hab40_25km, Hab41_25km, Hab42_25km, Hab43_25km, Hab44_25km,\n",
        "       Hab45_25km, Hab46_25km, Hab47_25km, Hab48_25km, Hab49_25km,\n",
        "       Hab50_25km, Hab51_25km, Hab52_25km, Hab53_25km, Hab54_25km,\n",
        "       Hab55_25km, Hab56_25km, Hab57_25km, Hab58_25km, Hab59_25km,\n",
        "       Hab60_25km, Hab01_30km, Hab02_30km, Hab03_30km, Hab04_30km,\n",
        "       Hab05_30km, Hab06_30km, Hab07_30km, Hab08_30km, Hab09_30km,\n",
        "       Hab10_30km, Hab11_30km, Hab12_30km, Hab13_30km, Hab14_30km,\n",
        "       Hab15_30km, Hab16_30km, Hab17_30km, Hab18_30km, Hab19_30km,\n",
        "       Hab20_30km, Hab21_30km, Hab22_30km, Hab23_30km, Hab24_30km,\n",
        "       Hab25_30km, Hab26_30km, Hab27_30km, Hab28_30km, Hab29_30km,\n",
        "       Hab30_30km, Hab31_30km, Hab32_30km, Hab33_30km, Hab34_30km,\n",
        "       Hab35_30km, Hab36_30km, Hab37_30km, Hab38_30km, Hab39_30km,\n",
        "       Hab40_30km, Hab41_30km, Hab42_30km, Hab43_30km, Hab44_30km,\n",
        "       Hab45_30km, Hab46_30km, Hab47_30km, Hab48_30km, Hab49_30km,\n",
        "       Hab50_30km, Hab51_30km, Hab52_30km, Hab53_30km, Hab54_30km,\n",
        "       Hab55_30km, Hab56_30km, Hab57_30km, Hab58_30km, Hab59_30km,\n",
        "       Hab60_30km, Hab01_35km, Hab02_35km, Hab03_35km, Hab04_35km,\n",
        "       Hab05_35km, Hab06_35km, Hab07_35km, Hab08_35km, Hab09_35km,\n",
        "       Hab10_35km, Hab11_35km, Hab12_35km, Hab13_35km, Hab14_35km,\n",
        "       Hab15_35km, Hab16_35km, Hab17_35km, Hab18_35km, Hab19_35km,\n",
        "       Hab20_35km, Hab21_35km, Hab22_35km, Hab23_35km, Hab24_35km,\n",
        "       Hab25_35km, Hab26_35km, Hab27_35km, Hab28_35km, Hab29_35km,\n",
        "       Hab30_35km, Hab31_35km, Hab32_35km, Hab33_35km, Hab34_35km,\n",
        "       Hab35_35km, Hab36_35km, Hab37_35km, Hab38_35km, Hab39_35km,\n",
        "       Hab40_35km, Hab41_35km, Hab42_35km, Hab43_35km, Hab44_35km,\n",
        "       Hab45_35km, Hab46_35km, Hab47_35km, Hab48_35km, Hab49_35km,\n",
        "       Hab50_35km, Hab51_35km, Hab52_35km, Hab53_35km, Hab54_35km,\n",
        "       Hab55_35km, Hab56_35km, Hab57_35km, Hab58_35km, Hab59_35km,\n",
        "       Hab60_35km, Hab01_40km, Hab02_40km, Hab03_40km, Hab04_40km,\n",
        "       Hab05_40km, Hab06_40km, Hab07_40km, Hab08_40km, Hab09_40km,\n",
        "       Hab10_40km, Hab11_40km, Hab12_40km, Hab13_40km, Hab14_40km,\n",
        "       Hab15_40km, Hab16_40km, Hab17_40km, Hab18_40km, Hab19_40km,\n",
        "       Hab20_40km, Hab21_40km, Hab22_40km, Hab23_40km, Hab24_40km,\n",
        "       Hab25_40km, Hab26_40km, Hab27_40km, Hab28_40km, Hab29_40km,\n",
        "       Hab30_40km, Hab31_40km, Hab32_40km, Hab33_40km, Hab34_40km,\n",
        "       Hab35_40km, Hab36_40km, Hab37_40km, Hab38_40km, Hab39_40km,\n",
        "       Hab40_40km, Hab41_40km, Hab42_40km, Hab43_40km, Hab44_40km,\n",
        "       Hab45_40km, Hab46_40km, Hab47_40km, Hab48_40km, Hab49_40km,\n",
        "       Hab50_40km, Hab51_40km, Hab52_40km, Hab53_40km, Hab54_40km,\n",
        "       Hab55_40km, Hab56_40km, Hab57_40km, Hab58_40km, Hab59_40km,\n",
        "       Hab60_40km, Hab01_45km, Hab02_45km, Hab03_45km, Hab04_45km,\n",
        "       Hab05_45km, Hab06_45km, Hab07_45km, Hab08_45km, Hab09_45km,\n",
        "       Hab10_45km, Hab11_45km, Hab12_45km, Hab13_45km, Hab14_45km,\n",
        "       Hab15_45km, Hab16_45km, Hab17_45km, Hab18_45km, Hab19_45km,\n",
        "       Hab20_45km, Hab21_45km, Hab22_45km, Hab23_45km, Hab24_45km,\n",
        "       Hab25_45km, Hab26_45km, Hab27_45km, Hab28_45km, Hab29_45km,\n",
        "       Hab30_45km, Hab31_45km, Hab32_45km, Hab33_45km, Hab34_45km,\n",
        "       Hab35_45km, Hab36_45km, Hab37_45km, Hab38_45km, Hab39_45km,\n",
        "       Hab40_45km, Hab41_45km, Hab42_45km, Hab43_45km, Hab44_45km,\n",
        "       Hab45_45km, Hab46_45km, Hab47_45km, Hab48_45km, Hab49_45km,\n",
        "       Hab50_45km, Hab51_45km, Hab52_45km, Hab53_45km, Hab54_45km,\n",
        "       Hab55_45km, Hab56_45km, Hab57_45km, Hab58_45km, Hab59_45km,\n",
        "       Hab60_45km, Hab01_50km, Hab02_50km, Hab03_50km, Hab04_50km,\n",
        "       Hab05_50km, Hab06_50km, Hab07_50km, Hab08_50km, Hab09_50km,\n",
        "       Hab10_50km, Hab11_50km, Hab12_50km, Hab13_50km, Hab14_50km,\n",
        "       Hab15_50km, Hab16_50km, Hab17_50km, Hab18_50km, Hab19_50km,\n",
        "       Hab20_50km, Hab21_50km, Hab22_50km, Hab23_50km, Hab24_50km,\n",
        "       Hab25_50km, Hab26_50km, Hab27_50km, Hab28_50km, Hab29_50km,\n",
        "       Hab30_50km, Hab31_50km, Hab32_50km, Hab33_50km, Hab34_50km,\n",
        "       Hab35_50km, Hab36_50km, Hab37_50km, Hab38_50km, Hab39_50km,\n",
        "       Hab40_50km, Hab41_50km, Hab42_50km, Hab43_50km, Hab44_50km,\n",
        "       Hab45_50km, Hab46_50km, Hab47_50km, Hab48_50km, Hab49_50km,\n",
        "       Hab50_50km, Hab51_50km, Hab52_50km, Hab53_50km, Hab54_50km,\n",
        "       Hab55_50km, Hab56_50km, Hab57_50km, Hab58_50km, Hab59_50km,\n",
        "       Hab60_50km, Hab01_55km, Hab02_55km, Hab03_55km, Hab04_55km,\n",
        "       Hab05_55km, Hab06_55km, Hab07_55km, Hab08_55km, Hab09_55km,\n",
        "       Hab10_55km, Hab11_55km, Hab12_55km, Hab13_55km, Hab14_55km,\n",
        "       Hab15_55km, Hab16_55km, Hab17_55km, Hab18_55km, Hab19_55km,\n",
        "       Hab20_55km, Hab21_55km, Hab22_55km, Hab23_55km, Hab24_55km,\n",
        "       Hab25_55km, Hab26_55km, Hab27_55km, Hab28_55km, Hab29_55km,\n",
        "       Hab30_55km, Hab31_55km, Hab32_55km, Hab33_55km, Hab34_55km,\n",
        "       Hab35_55km, Hab36_55km, Hab37_55km, Hab38_55km, Hab39_55km,\n",
        "       Hab40_55km, Hab41_55km, Hab42_55km, Hab43_55km, Hab44_55km,\n",
        "       Hab45_55km, Hab46_55km, Hab47_55km, Hab48_55km, Hab49_55km,\n",
        "       Hab50_55km, Hab51_55km, Hab52_55km, Hab53_55km, Hab54_55km,\n",
        "       Hab55_55km, Hab56_55km, Hab57_55km, Hab58_55km, Hab59_55km,\n",
        "       Hab60_55km, Hab01_60km, Hab02_60km, Hab03_60km, Hab04_60km,\n",
        "       Hab05_60km, Hab06_60km, Hab07_60km, Hab08_60km, Hab09_60km,\n",
        "       Hab10_60km, Hab11_60km, Hab12_60km, Hab13_60km, Hab14_60km,\n",
        "       Hab15_60km, Hab16_60km, Hab17_60km, Hab18_60km, Hab19_60km,\n",
        "       Hab20_60km, Hab21_60km, Hab22_60km, Hab23_60km, Hab24_60km,\n",
        "       Hab25_60km, Hab26_60km, Hab27_60km, Hab28_60km, Hab29_60km,\n",
        "       Hab30_60km, Hab31_60km, Hab32_60km, Hab33_60km, Hab34_60km,\n",
        "       Hab35_60km, Hab36_60km, Hab37_60km, Hab38_60km, Hab39_60km,\n",
        "       Hab40_60km, Hab41_60km, Hab42_60km, Hab43_60km, Hab44_60km,\n",
        "       Hab45_60km, Hab46_60km, Hab47_60km, Hab48_60km, Hab49_60km,\n",
        "       Hab50_60km, Hab51_60km, Hab52_60km, Hab53_60km, Hab54_60km,\n",
        "       Hab55_60km, Hab56_60km, Hab57_60km, Hab58_60km, Hab59_60km,\n",
        "       Hab60_60km, bug_count], dtype=object)\n"
       ]
      }
     ],
     "prompt_number": 52
    },
    {
     "cell_type": "code",
     "collapsed": true,
     "input": [
      "# Take temp_table and join dd_site_sum_full_table on the key detector_date\n",
      "join1 = p.merge(dd_site_sum_full_table, temp_table, on='detector_date', how='left')"
     ],
     "language": "python",
     "metadata": {},
     "outputs": [],
     "prompt_number": 53
    },
    {
     "cell_type": "code",
     "collapsed": true,
     "input": [
      "# Save the joined table\n",
      "join1.to_csv('../results/2011_nightly_sum_full_temp.csv', index=False)"
     ],
     "language": "python",
     "metadata": {},
     "outputs": [],
     "prompt_number": 54
    },
    {
     "cell_type": "code",
     "collapsed": true,
     "input": [
      "# Import nightly sum data (for 2012 now)\n",
      "dd_site_sum_full_table1 = p.read_csv('../results/pass_bin_2012_nightly_sums_full.csv')"
     ],
     "language": "python",
     "metadata": {},
     "outputs": [],
     "prompt_number": 55
    },
    {
     "cell_type": "code",
     "collapsed": true,
     "input": [
      "# Take temp_table and join dd_site_sum_full_table on the key detector_date\n",
      "join2 = p.merge(dd_site_sum_full_table1, temp_table, on='detector_date', how='left')"
     ],
     "language": "python",
     "metadata": {},
     "outputs": [],
     "prompt_number": 56
    },
    {
     "cell_type": "code",
     "collapsed": true,
     "input": [
      "# Save the joined table\n",
      "join2.to_csv('../results/2012_nightly_sum_full_temp.csv', index=False) # Mean T there, but missing from 2012 in pass_bin_temp.csv"
     ],
     "language": "python",
     "metadata": {},
     "outputs": [],
     "prompt_number": 57
    },
    {
     "cell_type": "code",
     "collapsed": false,
     "input": [
      "# Merge 2011 & 2012 nightly_sum_full_temp csvs\n",
      "import os\n",
      "cmd1 = 'cat ../results/2011_nightly_sum_full_temp.csv > ../results/pass_bin_temp.csv'\n",
      "os.system(cmd1)\n",
      "cmd2 = 'tail +2 ../results/2012_nightly_sum_full_temp.csv >> ../results/pass_bin_temp.csv'\n",
      "os.system(cmd2)"
     ],
     "language": "python",
     "metadata": {},
     "outputs": [
      {
       "output_type": "pyout",
       "prompt_number": 58,
       "text": [
        "0"
       ]
      }
     ],
     "prompt_number": 58
    },
    {
     "cell_type": "code",
     "collapsed": true,
     "input": [],
     "language": "python",
     "metadata": {},
     "outputs": [],
     "prompt_number": 58
    }
   ],
   "metadata": {}
  }
 ]
}
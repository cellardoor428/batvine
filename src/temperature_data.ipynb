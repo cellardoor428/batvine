{
 "metadata": {
  "name": "temperature_data"
 }, 
 "nbformat": 2, 
 "worksheets": [
  {
   "cells": [
    {
     "cell_type": "code", 
     "collapsed": true, 
     "input": [
      "# import everything", 
      "import pandas as p", 
      "import numpy as np", 
      "import datetime"
     ], 
     "language": "python", 
     "outputs": [], 
     "prompt_number": 1
    }, 
    {
     "cell_type": "code", 
     "collapsed": true, 
     "input": [
      "# Import the csv", 
      "table = p.read_table('../data/sensors_all.txt', names = ('detector_date', 'time', 'temp', 'external'))"
     ], 
     "language": "python", 
     "outputs": [], 
     "prompt_number": 2
    }, 
    {
     "cell_type": "code", 
     "collapsed": false, 
     "input": [
      "# Look at the attributes", 
      "table.columns"
     ], 
     "language": "python", 
     "outputs": [
      {
       "output_type": "pyout", 
       "prompt_number": 3, 
       "text": [
        "Index([detector_date, time, temp, external], dtype=object)"
       ]
      }
     ], 
     "prompt_number": 3
    }, 
    {
     "cell_type": "code", 
     "collapsed": true, 
     "input": [
      "# Define detector_date column, and setup emtpy lists to hold column for date & detector", 
      "detector_date = table['detector_date']", 
      "date_col = []", 
      "detector_col = []", 
      "", 
      "# Break detector_date column into words, the 0th word being detector, the 5th word being date", 
      "detector_col = detector_date.str.split(' ').str.get(0)", 
      "date_col = detector_date.str.split(' ').str.get(5)"
     ], 
     "language": "python", 
     "outputs": [], 
     "prompt_number": 4
    }, 
    {
     "cell_type": "code", 
     "collapsed": true, 
     "input": [
      "# define detector, date, and time columns", 
      "date = date_col", 
      "time = table['time']", 
      "date_time_col = []", 
      "detector = detector_col", 
      "#right_date_time_col = [] - Moved to next cell", 
      "", 
      "", 
      "# Append time to date_col", 
      "for i in range(len(date)):", 
      "    date_time_col.append(detector[i] + ' ' + date[i] + ' ' + time[i])"
     ], 
     "language": "python", 
     "outputs": [], 
     "prompt_number": 5
    }, 
    {
     "cell_type": "code", 
     "collapsed": false, 
     "input": [
      "date_time_col[0:5]"
     ], 
     "language": "python", 
     "outputs": [
      {
       "output_type": "pyout", 
       "prompt_number": 6, 
       "text": [
        "['SM1 2011-Jul-14 20:34:01',", 
        " 'SM1 2011-Jul-14 20:39:01',", 
        " 'SM1 2011-Jul-14 20:44:01',", 
        " 'SM1 2011-Jul-14 20:49:01',", 
        " 'SM1 2011-Jul-14 20:54:01']"
       ]
      }
     ], 
     "prompt_number": 6
    }, 
    {
     "cell_type": "code", 
     "collapsed": false, 
     "input": [
      "# Reset this every time right before running the loop", 
      "right_detector_date_time_col = []", 
      "right_date_col = []", 
      "", 
      "# Loop through all date_time_col and correct the format", 
      "for dt in date_time_col:", 
      "    ", 
      "    # Adjust date ", 
      "    ttime = dt.split(' ')[2] # get time as a string", 
      "    tdate = dt.split(' ')[1] # get date as a string", 
      "    tdetector = dt.split(' ')[0]", 
      "    ", 
      "    # Split date into words", 
      "    tdate_split = tdate.split('-')", 
      "    tyear = tdate_split[0]", 
      "    tmonth = tdate_split[1]", 
      "    tday = tdate_split[2]", 
      "    ", 
      "    # Remove colons from time", 
      "    tttime = ttime.replace(':','')", 
      "    ", 
      "    # Convert month from a word to a number", 
      "    if tmonth == 'Jun':", 
      "        tmonth = ('06')", 
      "    if tmonth == 'Jul':", 
      "        tmonth = ('07')", 
      "    if tmonth == 'Aug':", 
      "        tmonth = ('08')", 
      "    ", 
      "    #Loop through all dt in date_time_col correct for nightly turnover, so date = starting date ", 
      "    ", 
      "    if int(tttime) < 120000: # if it is before noon, correct the date", 
      "        ", 
      "        # Make year, month, and date all integers", 
      "        ttyear = int(tyear)", 
      "        ttmonth = int(tmonth)", 
      "        ttday = int(tday)", 
      "        ", 
      "        # Fix the date by subtracting one day", 
      "        tdate_wrong_datetime = datetime.date(ttyear, ttmonth, ttday)", 
      "        one_day = datetime.timedelta(1)", 
      "        tdate_right_datetime = tdate_wrong_datetime - one_day", 
      "        ", 
      "        # Get the string back in the right format", 
      "        tdate_right_string_dash = datetime.date.isoformat(tdate_right_datetime)", 
      "        tdate = tdate_right_string_dash.replace('-','')", 
      "        ", 
      "    # JK ADDITION", 
      "    else:  # if after noon, just get the date in the right format", 
      "        tdate = tyear + tmonth + tday", 
      "        ", 
      "    #add tdate to appropriate cols", 
      "    right_detector_date_time_col.append(tdetector + '_' + tdate + '_' + tttime)", 
      "    right_date_col.append(tdetector + '_' + tdate)"
     ], 
     "language": "python", 
     "outputs": [], 
     "prompt_number": 7
    }, 
    {
     "cell_type": "code", 
     "collapsed": false, 
     "input": [
      "right_detector_date_time_col[:10]"
     ], 
     "language": "python", 
     "outputs": [
      {
       "output_type": "pyout", 
       "prompt_number": 8, 
       "text": [
        "['SM1_20110714_203401',", 
        " 'SM1_20110714_203901',", 
        " 'SM1_20110714_204401',", 
        " 'SM1_20110714_204901',", 
        " 'SM1_20110714_205401',", 
        " 'SM1_20110714_205901',", 
        " 'SM1_20110714_210401',", 
        " 'SM1_20110714_210901',", 
        " 'SM1_20110714_211401',", 
        " 'SM1_20110714_211901']"
       ]
      }
     ], 
     "prompt_number": 8
    }, 
    {
     "cell_type": "code", 
     "collapsed": false, 
     "input": [
      "# I think your problem was running two cells above (the big for loop) over", 
      "# and over again - each time you ran it, it kept adding 379 rows to ", 
      "# right_date_time_col! To fix this, you can either just Run All cells each", 
      "# time, or better, I added a line at the top of that cell that resets this", 
      "# list to empty each time you run the cell.", 
      "print len(date_time_col)", 
      "print len(right_detector_date_time_col)"
     ], 
     "language": "python", 
     "outputs": [
      {
       "output_type": "stream", 
       "stream": "stdout", 
       "text": [
        "66049", 
        "66049"
       ]
      }
     ], 
     "prompt_number": 9
    }, 
    {
     "cell_type": "code", 
     "collapsed": true, 
     "input": [
      "# Add right_date_time_column to table", 
      "table.insert(0,'detector_date_time', right_detector_date_time_col)"
     ], 
     "language": "python", 
     "outputs": [], 
     "prompt_number": 10
    }, 
    {
     "cell_type": "code", 
     "collapsed": false, 
     "input": [
      "table.columns # check that they're added"
     ], 
     "language": "python", 
     "outputs": [
      {
       "output_type": "pyout", 
       "prompt_number": 11, 
       "text": [
        "Index([detector_date_time, detector_date, time, temp, external], dtype=object)"
       ]
      }
     ], 
     "prompt_number": 11
    }, 
    {
     "cell_type": "code", 
     "collapsed": true, 
     "input": [
      "# Save csv with these extra cols to cross check visually", 
      "table.to_csv('../results/temp_right_date_time.csv', index=False)", 
      "", 
      "# Check table visually, looks good! "
     ], 
     "language": "python", 
     "outputs": [], 
     "prompt_number": 12
    }, 
    {
     "cell_type": "code", 
     "collapsed": false, 
     "input": [
      "# Now insert the right date as a column", 
      "table.insert(1,'rdate', right_date_col)", 
      "", 
      "# And remove the detector_date column with the unadjusted date", 
      "table.drop(['detector_date'], axis=1)"
     ], 
     "language": "python", 
     "outputs": [
      {
       "output_type": "pyout", 
       "prompt_number": 13, 
       "text": [
        "<class 'pandas.core.frame.DataFrame'>", 
        "Int64Index: 66049 entries, 0 to 66048", 
        "Data columns:", 
        "detector_date_time    66049  non-null values", 
        "rdate                 66049  non-null values", 
        "time                  66049  non-null values", 
        "temp                  66049  non-null values", 
        "external              66049  non-null values", 
        "dtypes: float64(2), object(3)"
       ]
      }
     ], 
     "prompt_number": 13
    }, 
    {
     "cell_type": "code", 
     "collapsed": false, 
     "input": [
      "print table['rdate']"
     ], 
     "language": "python", 
     "outputs": [
      {
       "output_type": "stream", 
       "stream": "stdout", 
       "text": [
        "0     SM1_20110714", 
        "1     SM1_20110714", 
        "2     SM1_20110714", 
        "3     SM1_20110714", 
        "4     SM1_20110714", 
        "5     SM1_20110714", 
        "6     SM1_20110714", 
        "7     SM1_20110714", 
        "8     SM1_20110714", 
        "9     SM1_20110714", 
        "10    SM1_20110714", 
        "11    SM1_20110714", 
        "12    SM1_20110714", 
        "13    SM1_20110714", 
        "14    SM1_20110714", 
        "...", 
        "66034    SM6_20120720", 
        "66035    SM6_20120720", 
        "66036    SM6_20120720", 
        "66037    SM6_20120720", 
        "66038    SM6_20120720", 
        "66039    SM6_20120720", 
        "66040    SM6_20120720", 
        "66041    SM6_20120720", 
        "66042    SM6_20120720", 
        "66043    SM6_20120720", 
        "66044    SM6_20120720", 
        "66045    SM6_20120720", 
        "66046    SM6_20120720", 
        "66047    SM6_20120720", 
        "66048    SM6_20120720", 
        "Name: rdate, Length: 66049"
       ]
      }
     ], 
     "prompt_number": 19
    }, 
    {
     "cell_type": "code", 
     "collapsed": false, 
     "input": [
      "# separate rdate by unique values", 
      "unique_rdate = np.unique(table['rdate'])", 
      "", 
      "print table['temp'][0]", 
      "print np.min(table['temp'][0:10])"
     ], 
     "language": "python", 
     "outputs": [
      {
       "output_type": "stream", 
       "stream": "stdout", 
       "text": [
        "19.6", 
        "19.6"
       ]
      }
     ], 
     "prompt_number": 58
    }, 
    {
     "cell_type": "code", 
     "collapsed": false, 
     "input": [
      "# Setup empty lists to hold temperature variables", 
      "maxt = []", 
      "mint = []", 
      "sunsett = []", 
      "meant = []", 
      "", 
      "# Loop through all unique values in rdate, and pull out min, max, mean, and sunset temp.", 
      "for i in unique_rdate:", 
      "    mini_table = table[table['rdate'] == i]", 
      "    maxt.append(np.max(mini_table['temp']))", 
      "    mint.append(np.min(mini_table['temp']))", 
      "    sunsett.append(float(mini_table['temp'][0:1])) # ! tried changing this to [7:8] and it didn't work", 
      "    meant.append(np.mean(mini_table['temp']))", 
      "    ", 
      "print len(maxt)"
     ], 
     "language": "python", 
     "outputs": [
      {
       "output_type": "stream", 
       "stream": "stdout", 
       "text": [
        "511"
       ]
      }
     ], 
     "prompt_number": 69
    }, 
    {
     "cell_type": "code", 
     "collapsed": false, 
     "input": [
      "# Make Dataframe for detector_date, then append temperature data (min, max, mean, sunset temp)", 
      "temp_table = p.DataFrame(data=unique_rdate, index=None, columns=['detector_date'])", 
      "temp_table.insert(1, 'max_temp', maxt)", 
      "temp_table.insert(2, 'min_temp', mint)", 
      "temp_table.insert(3, 'temp_sunset', sunsett)", 
      "temp_table.insert(4, 'mean_temp', meant)"
     ], 
     "language": "python", 
     "outputs": [], 
     "prompt_number": 102
    }, 
    {
     "cell_type": "code", 
     "collapsed": false, 
     "input": [
      "# Check that it worked", 
      "print len(temp_table)"
     ], 
     "language": "python", 
     "outputs": [
      {
       "output_type": "stream", 
       "stream": "stdout", 
       "text": [
        "511"
       ]
      }
     ], 
     "prompt_number": 104
    }, 
    {
     "cell_type": "code", 
     "collapsed": false, 
     "input": [
      "# Convert to csv", 
      "temp_table.to_csv('../results/temp_data.csv', index=False)"
     ], 
     "language": "python", 
     "outputs": [], 
     "prompt_number": 105
    }, 
    {
     "cell_type": "code", 
     "collapsed": true, 
     "input": [], 
     "language": "python", 
     "outputs": []
    }
   ]
  }
 ]
}
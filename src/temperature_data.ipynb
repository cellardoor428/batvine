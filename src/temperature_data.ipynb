{
 "metadata": {
  "name": "temperature_data"
 }, 
 "nbformat": 2, 
 "worksheets": [
  {
   "cells": [
    {
     "cell_type": "code", 
     "collapsed": true, 
     "input": [
      "# import everything", 
      "import pandas as p", 
      "import numpy as np", 
      "import datetime"
     ], 
     "language": "python", 
     "outputs": [], 
     "prompt_number": 1
    }, 
    {
     "cell_type": "code", 
     "collapsed": true, 
     "input": [
      "# Import the csv", 
      "table = p.read_table('../data/BATDATA_2011_SENSORS/M1-R1_Sensors/SM1_Sensor-A.txt', names = ('date', 'time', 'temp', 'external'))"
     ], 
     "language": "python", 
     "outputs": [], 
     "prompt_number": 2
    }, 
    {
     "cell_type": "code", 
     "collapsed": false, 
     "input": [
      "# Look at the attributes", 
      "table.columns"
     ], 
     "language": "python", 
     "outputs": [
      {
       "output_type": "pyout", 
       "prompt_number": 3, 
       "text": [
        "Index([date, time, temp, external], dtype=object)"
       ]
      }
     ], 
     "prompt_number": 3
    }, 
    {
     "cell_type": "code", 
     "collapsed": true, 
     "input": [
      "# define detector, date, and time columns", 
      "detector = 'SM1'", 
      "date = table['date']", 
      "time = table['time']", 
      "date_time_col = []", 
      "#right_date_time_col = [] - Moved to next cell", 
      "detector_date_col = []", 
      "", 
      "# Append time to date_col", 
      "for i in range(len(date)):", 
      "    date_time_col.append(date[i] + ' ' + time[i])"
     ], 
     "language": "python", 
     "outputs": [], 
     "prompt_number": 4
    }, 
    {
     "cell_type": "code", 
     "collapsed": false, 
     "input": [
      "date_time_col[0:5]"
     ], 
     "language": "python", 
     "outputs": [
      {
       "output_type": "pyout", 
       "prompt_number": 5, 
       "text": [
        "['2011-Jul-14 20:34:01',", 
        " '2011-Jul-14 20:39:01',", 
        " '2011-Jul-14 20:44:01',", 
        " '2011-Jul-14 20:49:01',", 
        " '2011-Jul-14 20:54:01']"
       ]
      }
     ], 
     "prompt_number": 5
    }, 
    {
     "cell_type": "code", 
     "collapsed": true, 
     "input": [
      "# Reset this every time right before running the loop", 
      "right_date_time_col = []", 
      "right_date_col = []", 
      "", 
      "# Loop through all date_time_col and correct the format", 
      "for dt in date_time_col:", 
      "    ", 
      "    # Adjust date ", 
      "    ttime = dt.split(' ')[1] # get time as a string", 
      "    tdate = dt.split(' ')[0] # get date as a string", 
      "    ", 
      "    # Split date into words", 
      "    tdate_split = tdate.split('-')", 
      "    tyear = tdate_split[0]", 
      "    tmonth = tdate_split[1]", 
      "    tday = tdate_split[2]", 
      "    ", 
      "    # Remove colons from time", 
      "    tttime = ttime.replace(':','')", 
      "    ", 
      "    # Convert month from a word to a number", 
      "    if tmonth == 'Jun':", 
      "        tmonth = ('06')", 
      "    if tmonth == 'Jul':", 
      "        tmonth = ('07')", 
      "    if tmonth == 'Aug':", 
      "        tmonth = ('08')", 
      "    ", 
      "    #Loop through all dt in date_time_col correct for nightly turnover, so date = starting date ", 
      "    ", 
      "    if int(tttime) < 120000: # if it is before noon, correct the date", 
      "        ", 
      "        # Make year, month, and date all integers", 
      "        ttyear = int(tyear)", 
      "        ttmonth = int(tmonth)", 
      "        ttday = int(tday)", 
      "        ", 
      "        # Fix the date by subtracting one day", 
      "        tdate_wrong_datetime = datetime.date(ttyear, ttmonth, ttday)", 
      "        one_day = datetime.timedelta(1)", 
      "        tdate_right_datetime = tdate_wrong_datetime - one_day", 
      "        ", 
      "        # Get the string back in the right format", 
      "        tdate_right_string_dash = datetime.date.isoformat(tdate_right_datetime)", 
      "        tdate = tdate_right_string_dash.replace('-','')", 
      "        ", 
      "    # JK ADDITION", 
      "    else:  # if after noon, just get the date in the right format", 
      "        tdate = tyear + tmonth + tday", 
      "        ", 
      "    #add tdate to appropriate cols", 
      "    right_date_time_col.append(tdate + '_' + tttime)", 
      "    right_date_col.append(tdate)"
     ], 
     "language": "python", 
     "outputs": [], 
     "prompt_number": 6
    }, 
    {
     "cell_type": "code", 
     "collapsed": false, 
     "input": [
      "right_date_time_col[:10]"
     ], 
     "language": "python", 
     "outputs": [
      {
       "output_type": "pyout", 
       "prompt_number": 7, 
       "text": [
        "['20110714_203401',", 
        " '20110714_203901',", 
        " '20110714_204401',", 
        " '20110714_204901',", 
        " '20110714_205401',", 
        " '20110714_205901',", 
        " '20110714_210401',", 
        " '20110714_210901',", 
        " '20110714_211401',", 
        " '20110714_211901']"
       ]
      }
     ], 
     "prompt_number": 7
    }, 
    {
     "cell_type": "code", 
     "collapsed": false, 
     "input": [
      "# I think your problem was running two cells above (the big for loop) over", 
      "# and over again - each time you ran it, it kept adding 379 rows to ", 
      "# right_date_time_col! To fix this, you can either just Run All cells each", 
      "# time, or better, I added a line at the top of that cell that resets this", 
      "# list to empty each time you run the cell.", 
      "print len(date_time_col)", 
      "print len(right_date_time_col)"
     ], 
     "language": "python", 
     "outputs": [
      {
       "output_type": "stream", 
       "stream": "stdout", 
       "text": [
        "379", 
        "379"
       ]
      }
     ], 
     "prompt_number": 8
    }, 
    {
     "cell_type": "code", 
     "collapsed": true, 
     "input": [
      "# Add right_date_time_column to table", 
      "table.insert(0,'date_time', right_date_time_col)"
     ], 
     "language": "python", 
     "outputs": [], 
     "prompt_number": 9
    }, 
    {
     "cell_type": "code", 
     "collapsed": false, 
     "input": [
      "table.columns # check that they're added"
     ], 
     "language": "python", 
     "outputs": [
      {
       "output_type": "pyout", 
       "prompt_number": 10, 
       "text": [
        "Index([date_time, date, time, temp, external], dtype=object)"
       ]
      }
     ], 
     "prompt_number": 10
    }, 
    {
     "cell_type": "code", 
     "collapsed": false, 
     "input": [
      "# Save csv with these extra cols to cross check visually", 
      "table.to_csv('../results/temp_right_date_time.csv', index=False)"
     ], 
     "language": "python", 
     "outputs": [], 
     "prompt_number": 11
    }, 
    {
     "cell_type": "code", 
     "collapsed": false, 
     "input": [
      "# Now insert the right date as a column", 
      "table.insert(1,'rdate', right_date_col)"
     ], 
     "language": "python", 
     "outputs": [], 
     "prompt_number": 16
    }, 
    {
     "cell_type": "code", 
     "collapsed": false, 
     "input": [
      "# Group rows according to the right date column", 
      "# This will get rid of all non numeric columns ", 
      "", 
      "gtable=table.groupby('rdate').sum().reset_index()", 
      "print gtable.columns", 
      "", 
      "# Add columns for the temperature at sunset, maximum, minimum, and average nightly temperatures", 
      "tset_col = []", 
      "tmax_col = []", 
      "tmin_col = []", 
      "tmean_col = []", 
      "", 
      "# Note that this requires 1 column be present before the temperature column, therefore temperature column = 1.", 
      "", 
      "for i in range(len(gtable['rdate'])):", 
      "    #tset_col.append( how do I tell it to do the first value for each change in ", 
      "    tmax_col.append(np.argmax(gtable.values[i][1])) # is it not working because temp column has decimals?", 
      "    tmean_col.append(np.mean(gtable.values[i][1]))"
     ], 
     "language": "python", 
     "outputs": [
      {
       "output_type": "stream", 
       "stream": "stdout", 
       "text": [
        "array([rdate, temp, external], dtype=object)"
       ]
      }
     ], 
     "prompt_number": 17
    }, 
    {
     "cell_type": "code", 
     "collapsed": false, 
     "input": [
      "print tmean_col"
     ], 
     "language": "python", 
     "outputs": [
      {
       "output_type": "stream", 
       "stream": "stdout", 
       "text": [
        "[2610.8000000000011, 2565.0000000000009, 2715.2000000000003]"
       ]
      }
     ], 
     "prompt_number": 18
    }, 
    {
     "cell_type": "code", 
     "collapsed": false, 
     "input": [], 
     "language": "python", 
     "outputs": []
    }, 
    {
     "cell_type": "code", 
     "collapsed": true, 
     "input": [], 
     "language": "python", 
     "outputs": []
    }
   ]
  }
 ]
}
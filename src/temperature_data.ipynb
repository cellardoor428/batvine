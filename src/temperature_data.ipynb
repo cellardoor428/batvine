{
 "metadata": {
  "name": "temperature_data"
 },
 "nbformat": 3,
 "nbformat_minor": 0,
 "worksheets": [
  {
   "cells": [
    {
     "cell_type": "code",
     "collapsed": true,
     "input": [
      "# import everything\n",
      "import pandas as p\n",
      "import numpy as np\n",
      "import datetime"
     ],
     "language": "python",
     "metadata": {},
     "outputs": [],
     "prompt_number": 1
    },
    {
     "cell_type": "code",
     "collapsed": true,
     "input": [
      "# Import the csv\n",
      "table = p.read_table('../data/sensors_all.txt', names = ('detector_date', 'time', 'temp', 'external'))"
     ],
     "language": "python",
     "metadata": {},
     "outputs": [],
     "prompt_number": 2
    },
    {
     "cell_type": "code",
     "collapsed": false,
     "input": [
      "# Look at the attributes\n",
      "table.columns"
     ],
     "language": "python",
     "metadata": {},
     "outputs": [
      {
       "output_type": "pyout",
       "prompt_number": 3,
       "text": [
        "Index([detector_date, time, temp, external], dtype=object)"
       ]
      }
     ],
     "prompt_number": 3
    },
    {
     "cell_type": "code",
     "collapsed": true,
     "input": [
      "# Define detector_date column, and setup emtpy lists to hold column for date & detector\n",
      "detector_date = table['detector_date']\n",
      "date_col = []\n",
      "detector_col = []\n",
      "\n",
      "# Break detector_date column into words, the 0th word being detector, the 5th word being date\n",
      "detector_col = detector_date.str.split(' ').str.get(0)\n",
      "date_col = detector_date.str.split(' ').str.get(5)"
     ],
     "language": "python",
     "metadata": {},
     "outputs": [],
     "prompt_number": 4
    },
    {
     "cell_type": "code",
     "collapsed": true,
     "input": [
      "# define detector, date, and time columns\n",
      "date = date_col\n",
      "time = table['time']\n",
      "date_time_col = []\n",
      "detector = detector_col\n",
      "#right_date_time_col = [] - Moved to next cell\n",
      "\n",
      "\n",
      "# Append time to date_col\n",
      "for i in range(len(date)):\n",
      "    date_time_col.append(detector[i] + ' ' + date[i] + ' ' + time[i])"
     ],
     "language": "python",
     "metadata": {},
     "outputs": [],
     "prompt_number": 5
    },
    {
     "cell_type": "code",
     "collapsed": false,
     "input": [
      "date_time_col[0:5]"
     ],
     "language": "python",
     "metadata": {},
     "outputs": [
      {
       "output_type": "pyout",
       "prompt_number": 6,
       "text": [
        "['SM1 2011-Jul-14 20:34:01',\n",
        " 'SM1 2011-Jul-14 20:39:01',\n",
        " 'SM1 2011-Jul-14 20:44:01',\n",
        " 'SM1 2011-Jul-14 20:49:01',\n",
        " 'SM1 2011-Jul-14 20:54:01']"
       ]
      }
     ],
     "prompt_number": 6
    },
    {
     "cell_type": "code",
     "collapsed": true,
     "input": [
      "# Reset this every time right before running the loop\n",
      "right_detector_date_time_col = []\n",
      "right_date_col = []\n",
      "\n",
      "# Loop through all date_time_col and correct the format\n",
      "for dt in date_time_col:\n",
      "    \n",
      "    # Adjust date \n",
      "    ttime = dt.split(' ')[2] # get time as a string\n",
      "    tdate = dt.split(' ')[1] # get date as a string\n",
      "    tdetector = dt.split(' ')[0]\n",
      "    \n",
      "    # Split date into words\n",
      "    tdate_split = tdate.split('-')\n",
      "    tyear = tdate_split[0]\n",
      "    tmonth = tdate_split[1]\n",
      "    tday = tdate_split[2]\n",
      "    \n",
      "    # Remove colons from time\n",
      "    tttime = ttime.replace(':','')\n",
      "    \n",
      "    # Convert month from a word to a number\n",
      "    if tmonth == 'Jun':\n",
      "        tmonth = ('06')\n",
      "    if tmonth == 'Jul':\n",
      "        tmonth = ('07')\n",
      "    if tmonth == 'Aug':\n",
      "        tmonth = ('08')\n",
      "    \n",
      "    #Loop through all dt in date_time_col correct for nightly turnover, so date = starting date \n",
      "    \n",
      "    if int(tttime) < 120000: # if it is before noon, correct the date\n",
      "        \n",
      "        # Make year, month, and date all integers\n",
      "        ttyear = int(tyear)\n",
      "        ttmonth = int(tmonth)\n",
      "        ttday = int(tday)\n",
      "        \n",
      "        # Fix the date by subtracting one day\n",
      "        tdate_wrong_datetime = datetime.date(ttyear, ttmonth, ttday)\n",
      "        one_day = datetime.timedelta(1)\n",
      "        tdate_right_datetime = tdate_wrong_datetime - one_day\n",
      "        \n",
      "        # Get the string back in the right format\n",
      "        tdate_right_string_dash = datetime.date.isoformat(tdate_right_datetime)\n",
      "        tdate = tdate_right_string_dash.replace('-','')\n",
      "        \n",
      "    # JK ADDITION\n",
      "    else:  # if after noon, just get the date in the right format\n",
      "        tdate = tyear + tmonth + tday\n",
      "        \n",
      "    #add tdate to appropriate cols\n",
      "    right_detector_date_time_col.append(tdetector + '_' + tdate + '_' + tttime)\n",
      "    right_date_col.append(tdetector + '_' + tdate)"
     ],
     "language": "python",
     "metadata": {},
     "outputs": [],
     "prompt_number": 7
    },
    {
     "cell_type": "code",
     "collapsed": false,
     "input": [
      "right_detector_date_time_col[:10]"
     ],
     "language": "python",
     "metadata": {},
     "outputs": [
      {
       "output_type": "pyout",
       "prompt_number": 8,
       "text": [
        "['SM1_20110714_203401',\n",
        " 'SM1_20110714_203901',\n",
        " 'SM1_20110714_204401',\n",
        " 'SM1_20110714_204901',\n",
        " 'SM1_20110714_205401',\n",
        " 'SM1_20110714_205901',\n",
        " 'SM1_20110714_210401',\n",
        " 'SM1_20110714_210901',\n",
        " 'SM1_20110714_211401',\n",
        " 'SM1_20110714_211901']"
       ]
      }
     ],
     "prompt_number": 8
    },
    {
     "cell_type": "code",
     "collapsed": false,
     "input": [
      "# I think your problem was running two cells above (the big for loop) over\n",
      "# and over again - each time you ran it, it kept adding 379 rows to \n",
      "# right_date_time_col! To fix this, you can either just Run All cells each\n",
      "# time, or better, I added a line at the top of that cell that resets this\n",
      "# list to empty each time you run the cell.\n",
      "print len(date_time_col)\n",
      "print len(right_detector_date_time_col)"
     ],
     "language": "python",
     "metadata": {},
     "outputs": [
      {
       "output_type": "stream",
       "stream": "stdout",
       "text": [
        "65280\n",
        "65280\n"
       ]
      }
     ],
     "prompt_number": 9
    },
    {
     "cell_type": "code",
     "collapsed": true,
     "input": [
      "# Add right_date_time_column to table\n",
      "table.insert(0,'detector_date_time', right_detector_date_time_col)"
     ],
     "language": "python",
     "metadata": {},
     "outputs": [],
     "prompt_number": 10
    },
    {
     "cell_type": "code",
     "collapsed": false,
     "input": [
      "table.columns # check that they're added"
     ],
     "language": "python",
     "metadata": {},
     "outputs": [
      {
       "output_type": "pyout",
       "prompt_number": 11,
       "text": [
        "Index([detector_date_time, detector_date, time, temp, external], dtype=object)"
       ]
      }
     ],
     "prompt_number": 11
    },
    {
     "cell_type": "code",
     "collapsed": true,
     "input": [
      "# Save csv with these extra cols to cross check visually\n",
      "table.to_csv('../results/temp_right_date_time.csv', index=False)\n",
      "\n",
      "# Check table visually, looks good! "
     ],
     "language": "python",
     "metadata": {},
     "outputs": [],
     "prompt_number": 12
    },
    {
     "cell_type": "code",
     "collapsed": false,
     "input": [
      "# Now insert the right date as a column\n",
      "table.insert(1,'rdate', right_date_col)\n",
      "\n",
      "# And remove the detector_date column with the unadjusted date\n",
      "table.drop(['detector_date'], axis=1)"
     ],
     "language": "python",
     "metadata": {},
     "outputs": [
      {
       "output_type": "pyout",
       "prompt_number": 13,
       "text": [
        "<class 'pandas.core.frame.DataFrame'>\n",
        "Int64Index: 65280 entries, 0 to 65279\n",
        "Data columns:\n",
        "detector_date_time    65280  non-null values\n",
        "rdate                 65280  non-null values\n",
        "time                  65280  non-null values\n",
        "temp                  65280  non-null values\n",
        "external              65280  non-null values\n",
        "dtypes: float64(2), object(3)"
       ]
      }
     ],
     "prompt_number": 13
    },
    {
     "cell_type": "code",
     "collapsed": false,
     "input": [
      "print table['rdate']"
     ],
     "language": "python",
     "metadata": {},
     "outputs": [
      {
       "output_type": "stream",
       "stream": "stdout",
       "text": [
        "0     SM1_20110714\n",
        "1     SM1_20110714\n",
        "2     SM1_20110714\n",
        "3     SM1_20110714\n",
        "4     SM1_20110714\n",
        "5     SM1_20110714\n",
        "6     SM1_20110714\n",
        "7     SM1_20110714\n",
        "8     SM1_20110714\n",
        "9     SM1_20110714\n",
        "10    SM1_20110714\n",
        "11    SM1_20110714\n",
        "12    SM1_20110714\n",
        "13    SM1_20110714\n",
        "14    SM1_20110714\n",
        "...\n",
        "65265    SM6_20120720\n",
        "65266    SM6_20120720\n",
        "65267    SM6_20120720\n",
        "65268    SM6_20120720\n",
        "65269    SM6_20120720\n",
        "65270    SM6_20120720\n",
        "65271    SM6_20120720\n",
        "65272    SM6_20120720\n",
        "65273    SM6_20120720\n",
        "65274    SM6_20120720\n",
        "65275    SM6_20120720\n",
        "65276    SM6_20120720\n",
        "65277    SM6_20120720\n",
        "65278    SM6_20120720\n",
        "65279    SM6_20120720\n",
        "Name: rdate, Length: 65280\n"
       ]
      }
     ],
     "prompt_number": 14
    },
    {
     "cell_type": "code",
     "collapsed": false,
     "input": [
      "# separate rdate by unique values\n",
      "unique_rdate = np.unique(table['rdate'])\n",
      "\n",
      "print table['temp'][0]\n",
      "print np.min(table['temp'][0:10])\n",
      "print np.sum(unique_rdate=='SM2_20110722')"
     ],
     "language": "python",
     "metadata": {},
     "outputs": [
      {
       "output_type": "stream",
       "stream": "stdout",
       "text": [
        "19.6\n",
        "19.6\n",
        "1"
       ]
      },
      {
       "output_type": "stream",
       "stream": "stdout",
       "text": [
        "\n"
       ]
      }
     ],
     "prompt_number": 15
    },
    {
     "cell_type": "code",
     "collapsed": false,
     "input": [
      "print table[table['rdate'] == 'SM2_20110721']\n",
      "print table['rdate'][8254]"
     ],
     "language": "python",
     "metadata": {},
     "outputs": [
      {
       "output_type": "stream",
       "stream": "stdout",
       "text": [
        "<class 'pandas.core.frame.DataFrame'>\n",
        "Int64Index: 128 entries, 5712 to 5839\n",
        "Data columns:\n",
        "detector_date_time    128  non-null values\n",
        "rdate                 128  non-null values\n",
        "detector_date         128  non-null values\n",
        "time                  128  non-null values\n",
        "temp                  128  non-null values\n",
        "external              128  non-null values\n",
        "dtypes: float64(2), object(4)\n",
        "SM2_20110724\n"
       ]
      }
     ],
     "prompt_number": 16
    },
    {
     "cell_type": "code",
     "collapsed": false,
     "input": [
      "# Setup empty lists to hold temperature variables\n",
      "maxt = []\n",
      "mint = []\n",
      "sunsett = []\n",
      "meant = []\n",
      "\n",
      "# Loop through all unique values in rdate, and pull out min, max, mean, and sunset temp.\n",
      "for i in unique_rdate:\n",
      "    mini_table = table[table['rdate'] == i]\n",
      "    if len(mini_table['temp']) > 100:\n",
      "        maxt.append(np.max(mini_table['temp']))\n",
      "        mint.append(np.min(mini_table['temp']))\n",
      "        sunsett.append(float(mini_table['temp'][5:6])) \n",
      "        meant.append(np.mean(mini_table['temp']))\n",
      "   # else:\n",
      "       # print len(mini_table['temp'])\n",
      "       # print i\n",
      "    \n",
      "    # Looked for the average length of temperature entries per night\n",
      "    # Typed print len(mini_table['temp']\n",
      "    # Saw that all whole nighte were >100 entries long, however I noticed that these\n",
      "    # six nights were twice as long as all the rest, is this a glitch?\n",
      "    # Will remove \"dead nights\" by removing nights with lengths less than 100.\n",
      "    \n",
      "    # if len(mini_table['temp']) == 256: \n",
      "        # print \"too long\", i, len(mini_table['temp'])\n",
      "        # fixed this error manually in the text files\n",
      "    \n",
      "    # Look for temperature outliers, if sunset temperature > 32 degrees celsius, print it out and double check with weather station temperature\n",
      "    if (float(mini_table['temp'][5:6])) > 32:\n",
      "        print 'too hot', i, float(mini_table['temp'][5:6])\n",
      "        "
     ],
     "language": "python",
     "metadata": {},
     "outputs": [
      {
       "output_type": "stream",
       "stream": "stdout",
       "text": [
        "too hot SM1_20110822 34.0\n",
        "too hot"
       ]
      },
      {
       "output_type": "stream",
       "stream": "stdout",
       "text": [
        " SM1_20120616 35.5\n",
        "too hot"
       ]
      },
      {
       "output_type": "stream",
       "stream": "stdout",
       "text": [
        " SM1_20120711 32.5\n",
        "too hot"
       ]
      },
      {
       "output_type": "stream",
       "stream": "stdout",
       "text": [
        " SM1_20120720 33.3\n",
        "too hot"
       ]
      },
      {
       "output_type": "stream",
       "stream": "stdout",
       "text": [
        " SM2_20110720 32.2\n",
        "too hot"
       ]
      },
      {
       "output_type": "stream",
       "stream": "stdout",
       "text": [
        " SM2_20110823 35.1\n",
        "too hot SM2_20110824 32.2\n",
        "too hot SM2_20110825 32.7\n",
        "too hot"
       ]
      },
      {
       "output_type": "stream",
       "stream": "stdout",
       "text": [
        " SM2_20110827 33.6\n",
        "too hot SM2_20110828 33.1\n",
        "too hot"
       ]
      },
      {
       "output_type": "stream",
       "stream": "stdout",
       "text": [
        " SM2_20110829 33.1\n",
        "too hot"
       ]
      },
      {
       "output_type": "stream",
       "stream": "stdout",
       "text": [
        " SM2_20120612 33.5\n",
        "too hot"
       ]
      },
      {
       "output_type": "stream",
       "stream": "stdout",
       "text": [
        " SM2_20120616 36.5\n",
        "too hot"
       ]
      },
      {
       "output_type": "stream",
       "stream": "stdout",
       "text": [
        " SM2_20120710 33.3\n",
        "too hot SM2_20120711 36.1\n",
        "too hot"
       ]
      },
      {
       "output_type": "stream",
       "stream": "stdout",
       "text": [
        " SM3_20110823 33.5\n",
        "too hot"
       ]
      },
      {
       "output_type": "stream",
       "stream": "stdout",
       "text": [
        " SM3_20110827 36.1\n",
        "too hot SM3_20110828 34.1\n",
        "too hot"
       ]
      },
      {
       "output_type": "stream",
       "stream": "stdout",
       "text": [
        " SM3_20110829 33.6\n",
        "too hot"
       ]
      },
      {
       "output_type": "stream",
       "stream": "stdout",
       "text": [
        " SM3_20120616 34.8\n",
        "too hot"
       ]
      },
      {
       "output_type": "stream",
       "stream": "stdout",
       "text": [
        " SM3_20120711 34.6\n",
        "too hot"
       ]
      },
      {
       "output_type": "stream",
       "stream": "stdout",
       "text": [
        " SM3_20120720 34.6\n",
        "too hot"
       ]
      },
      {
       "output_type": "stream",
       "stream": "stdout",
       "text": [
        " SM5_20120612 32.2\n",
        "too hot"
       ]
      },
      {
       "output_type": "stream",
       "stream": "stdout",
       "text": [
        " SM5_20120616 34.5\n",
        "too hot"
       ]
      },
      {
       "output_type": "stream",
       "stream": "stdout",
       "text": [
        " SM5_20120710 32.2\n",
        "too hot SM5_20120711 33.3\n",
        "too hot"
       ]
      },
      {
       "output_type": "stream",
       "stream": "stdout",
       "text": [
        " SM5_20120720 34.0\n",
        "too hot"
       ]
      },
      {
       "output_type": "stream",
       "stream": "stdout",
       "text": [
        " SM6_20120616 34.1\n",
        "too hot"
       ]
      },
      {
       "output_type": "stream",
       "stream": "stdout",
       "text": [
        " SM6_20120720 33.0\n"
       ]
      }
     ],
     "prompt_number": 21
    },
    {
     "cell_type": "code",
     "collapsed": false,
     "input": [
      "# Remove dead days from unique_rdate column\n",
      "dead_list = ['SM1_20110812', 'SM1_20110819', 'SM1_20110826', 'SM4_20110812', 'SM4_20110826', 'SM6_20110826']\n",
      "data = unique_rdate.values\n",
      "new_data = []\n",
      "for i in data: \n",
      "    if i not in dead_list:\n",
      "        new_data.append(i)\n",
      "print len(new_data)"
     ],
     "language": "python",
     "metadata": {},
     "outputs": []
    },
    {
     "cell_type": "code",
     "collapsed": true,
     "input": [
      "# Make Dataframe for detector_date, then append temperature data (min, max, mean, sunset temp)\n",
      "temp_table = p.DataFrame(data=new_data, index=None, columns=['detector_date'])\n",
      "temp_table.insert(1, 'max_temp', maxt)\n",
      "temp_table.insert(2, 'min_temp', mint)\n",
      "temp_table.insert(3, 'temp_sunset', sunsett)\n",
      "temp_table.insert(4, 'mean_temp', meant)"
     ],
     "language": "python",
     "metadata": {},
     "outputs": []
    },
    {
     "cell_type": "code",
     "collapsed": false,
     "input": [
      "# Check that it worked\n",
      "print len(temp_table)\n",
      "print temp_table.columns"
     ],
     "language": "python",
     "metadata": {},
     "outputs": []
    },
    {
     "cell_type": "code",
     "collapsed": true,
     "input": [
      "# Save temperature data (mean, max, min, sunset) to csv, look over manually- looks good.\n",
      "temp_table.to_csv('../results/final_temp_data.csv', index=False)"
     ],
     "language": "python",
     "metadata": {},
     "outputs": []
    },
    {
     "cell_type": "code",
     "collapsed": true,
     "input": [
      "# Import nightly sum data \n",
      "dd_site_sum_full_table = p.read_csv('../results/pass_bin_2011_nightly_sums_full.csv')"
     ],
     "language": "python",
     "metadata": {},
     "outputs": []
    },
    {
     "cell_type": "code",
     "collapsed": false,
     "input": [
      "print dd_site_sum_full_table.columns"
     ],
     "language": "python",
     "metadata": {},
     "outputs": []
    },
    {
     "cell_type": "code",
     "collapsed": true,
     "input": [
      "# Take temp_table and join dd_site_sum_full_table on the key detector_date\n",
      "join1 = p.merge(dd_site_sum_full_table, temp_table, on='detector_date', how='left')"
     ],
     "language": "python",
     "metadata": {},
     "outputs": []
    },
    {
     "cell_type": "code",
     "collapsed": true,
     "input": [
      "# Save the joined table\n",
      "join1.to_csv('../results/2011_nightly_sum_full_temp.csv', index=False)"
     ],
     "language": "python",
     "metadata": {},
     "outputs": []
    },
    {
     "cell_type": "code",
     "collapsed": true,
     "input": [
      "# Import nightly sum data (for 2012 now)\n",
      "dd_site_sum_full_table = p.read_csv('../results/pass_bin_2012_nightly_sums_full.csv')"
     ],
     "language": "python",
     "metadata": {},
     "outputs": []
    },
    {
     "cell_type": "code",
     "collapsed": true,
     "input": [
      "# Take temp_table and join dd_site_sum_full_table on the key detector_date\n",
      "join1 = p.merge(dd_site_sum_full_table, temp_table, on='detector_date', how='left')"
     ],
     "language": "python",
     "metadata": {},
     "outputs": []
    },
    {
     "cell_type": "code",
     "collapsed": true,
     "input": [
      "# Save the joined table\n",
      "join1.to_csv('../results/2012_nightly_sum_full_temp.csv', index=False)"
     ],
     "language": "python",
     "metadata": {},
     "outputs": []
    },
    {
     "cell_type": "code",
     "collapsed": false,
     "input": [
      "# Merge 2011 & 2012 nightly_sum_full_temp csvs\n",
      "import os\n",
      "cmd1 = 'cat ../results/2011_nightly_sum_full_temp.csv > ../results/pass_bin_temp.csv'\n",
      "os.system(cmd1)\n",
      "cmd2 = 'tail +2 ../results/2012_nightly_sum_full_temp.csv >> ../results/pass_bin_temp.csv'\n",
      "os.system(cmd2)"
     ],
     "language": "python",
     "metadata": {},
     "outputs": []
    },
    {
     "cell_type": "code",
     "collapsed": true,
     "input": [],
     "language": "python",
     "metadata": {},
     "outputs": []
    }
   ],
   "metadata": {}
  }
 ]
}
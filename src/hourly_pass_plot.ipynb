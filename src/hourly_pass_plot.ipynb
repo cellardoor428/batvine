{
 "metadata": {
  "name": "hourly_pass_plot"
 },
 "nbformat": 3,
 "nbformat_minor": 0,
 "worksheets": [
  {
   "cells": [
    {
     "cell_type": "code",
     "collapsed": true,
     "input": [
      "# Import everything\n",
      "import numpy as np\n",
      "import pandas as p\n",
      "% pylab inline\n",
      "import datetime"
     ],
     "language": "python",
     "metadata": {},
     "outputs": [
      {
       "output_type": "stream",
       "stream": "stdout",
       "text": [
        "\n",
        "Welcome to pylab, a matplotlib-based Python environment [backend: module://IPython.zmq.pylab.backend_inline].\n",
        "For more information, type 'help(pylab)'.\n"
       ]
      }
     ],
     "prompt_number": 4
    },
    {
     "cell_type": "code",
     "collapsed": false,
     "input": [
      "# Read in nighlty distribution pass table\n",
      "table = p.read_csv('../results/hour_pass_distribution.csv')\n",
      "print table.columns\n",
      "print table['hour']"
     ],
     "language": "python",
     "metadata": {},
     "outputs": [
      {
       "output_type": "stream",
       "stream": "stdout",
       "text": [
        "array([hour, ANPA, EPFU, MYEV, MYTH, LANO, LACI, MYCA, LABL, PAHE, MYLU,\n",
        "       MYVO, TABR, MYYU, COTO, EUPE], dtype=object)\n",
        "0      0\n",
        "1      1\n",
        "2      2\n",
        "3      3\n",
        "4      4\n",
        "5      5\n",
        "6      6\n",
        "7     19\n",
        "8     20\n",
        "9     21\n",
        "10    22\n",
        "11    23\n",
        "Name: hour\n"
       ]
      }
     ],
     "prompt_number": 12
    },
    {
     "cell_type": "code",
     "collapsed": false,
     "input": [
      "# Adjust the hour, so that it is the hour after noon\n",
      "\n",
      "# Setup an empty list to hold the adjusted hour\n",
      "after12_hour = []\n",
      "\n",
      "# Loop through the hour column, and adjust the hour\n",
      "for i in table['hour']:\n",
      "    \n",
      "   thour = int(i) # Make hour an integer\n",
      "# If the hour is 19 or greater, sub\n",
      "   if thour > 18:\n",
      "        n_hour = (thour - 12) # this will make it hour after noon\n",
      "   else:\n",
      "        n_hour = (thour + 12) # this will convert the am hours to hours after noon of the previous day\n",
      "   after12_hour.append(n_hour)\n"
     ],
     "language": "python",
     "metadata": {},
     "outputs": [
      {
       "output_type": "stream",
       "stream": "stdout",
       "text": [
        "[12, 13, 14, 15, 16, 17, 18, 7, 8, 9, 10, 11]\n"
       ]
      }
     ],
     "prompt_number": 42
    },
    {
     "cell_type": "code",
     "collapsed": false,
     "input": [
      "# insert the hour after noon column into the table\n",
      "table.insert(1, 'noon_hour', after12_hour) "
     ],
     "language": "python",
     "metadata": {},
     "outputs": [],
     "prompt_number": 43
    },
    {
     "cell_type": "code",
     "collapsed": false,
     "input": [
      "# Make a plot of the distributoin of passes throughout the night\n",
      "\n",
      "# Setup an empty figure\n",
      "fig, ax1 = plt.subplots(1, 1)\n",
      "\n",
      "# Make variable to hold the total passes for each species\n",
      "ANPA = np.array(table['ANPA'])\n",
      "EPFU = np.array(table['EPFU'])\n",
      "MYEV = np.array(table['MYEV'])\n",
      "MYTH = np.array(table['MYTH'])\n",
      "LANO = np.array(table['LANO'])\n",
      "LACI = np.array(table['LACI'])\n",
      "MYCA = np.array(table['MYCA'])\n",
      "LABL = np.array(table['LABL'])\n",
      "PAHE = np.array(table['PAHE']) \n",
      "MYLU = np.array(table['MYLU']) \n",
      "MYVO = np.array(table['MYVO'])\n",
      "TABR = np.array(table['TABR'])\n",
      "MYYU = np.array(table['MYYU'])\n",
      "COTO = np.array(table['COTO'])\n",
      "EUPE = np.array(table['EUPE'])\n",
      "\n",
      "# Make the adjusted hour the index\n",
      "ind = after12_hour\n",
      "\n",
      "# Define the width of the bars\n",
      "width = 0.25\n",
      "\n",
      "# Make stacked bars for the 4 most common species\n",
      "ax1.bar(ind, TABR, width, color = 'r', label = 'TABR')\n",
      "ax1.bar(ind, EPFU, width, color = 'blue', bottom = TABR, label = 'EPFU')\n",
      "ax1.bar(ind, MYYU, width, color = 'green', bottom = TABR + EPFU, label = 'MYYU')\n",
      "ax1.bar(ind, LANO, width, color = 'orange', bottom = TABR + EPFU + MYYU, label = 'LANO')\n",
      "\n",
      "# Format the figure\n",
      "ax1.set_xlim(8, 19)\n",
      "ax1.set_ylim(0, 4000)\n",
      "ax1.set_xlabel('hour after noon')\n",
      "ax1.set_ylabel('total passes')\n",
      "ax1.legend()\n",
      "ax1.set_title('hourly distribution of passes')\n",
      "fig.set_size_inches(10, 6)\n",
      "\n",
      "# Save the figure\n",
      "fig.savefig('../results/hourly_pass_distribution.png')"
     ],
     "language": "python",
     "metadata": {},
     "outputs": [
      {
       "output_type": "display_data",
       "png": "[encoded data removed]"
      }
     ],
     "prompt_number": 56
    },
    {
     "cell_type": "code",
     "collapsed": false,
     "input": [],
     "language": "python",
     "metadata": {},
     "outputs": [],
     "prompt_number": 42
    },
    {
     "cell_type": "code",
     "collapsed": true,
     "input": [],
     "language": "python",
     "metadata": {},
     "outputs": []
    }
   ],
   "metadata": {}
  }
 ]
}